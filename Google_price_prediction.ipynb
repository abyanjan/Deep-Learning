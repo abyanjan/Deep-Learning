{
 "cells": [
  {
   "cell_type": "markdown",
   "metadata": {
    "colab_type": "text",
    "id": "0AxQlhgXV_zL"
   },
   "source": [
    " ### Google Stock Price Prediction Using Recurrent Neural Network(RNN)"
   ]
  },
  {
   "cell_type": "code",
   "execution_count": 0,
   "metadata": {
    "colab": {},
    "colab_type": "code",
    "id": "wfhJVYFwWfXU"
   },
   "outputs": [],
   "source": [
    "# Libraries\n",
    "import pandas as pd\n",
    "import numpy as np\n",
    "import matplotlib.pyplot as plt\n",
    "from sklearn.preprocessing import MinMaxScaler\n"
   ]
  },
  {
   "cell_type": "code",
   "execution_count": 0,
   "metadata": {
    "colab": {},
    "colab_type": "code",
    "id": "RlTbwMgQYVbX"
   },
   "outputs": [],
   "source": [
    "# Load Data\n",
    "df = pd.read_csv('GOOG.csv', parse_dates=True)"
   ]
  },
  {
   "cell_type": "code",
   "execution_count": 5,
   "metadata": {
    "colab": {
     "base_uri": "https://localhost:8080/",
     "height": 202
    },
    "colab_type": "code",
    "id": "tkgJvs1OYcnM",
    "outputId": "1e83afff-e415-4a2a-97bc-a9565efd70d8"
   },
   "outputs": [
    {
     "data": {
      "text/html": [
       "<div>\n",
       "<style scoped>\n",
       "    .dataframe tbody tr th:only-of-type {\n",
       "        vertical-align: middle;\n",
       "    }\n",
       "\n",
       "    .dataframe tbody tr th {\n",
       "        vertical-align: top;\n",
       "    }\n",
       "\n",
       "    .dataframe thead th {\n",
       "        text-align: right;\n",
       "    }\n",
       "</style>\n",
       "<table border=\"1\" class=\"dataframe\">\n",
       "  <thead>\n",
       "    <tr style=\"text-align: right;\">\n",
       "      <th></th>\n",
       "      <th>Date</th>\n",
       "      <th>Open</th>\n",
       "      <th>High</th>\n",
       "      <th>Low</th>\n",
       "      <th>Close</th>\n",
       "      <th>Adj Close</th>\n",
       "      <th>Volume</th>\n",
       "    </tr>\n",
       "  </thead>\n",
       "  <tbody>\n",
       "    <tr>\n",
       "      <th>0</th>\n",
       "      <td>2004-08-19</td>\n",
       "      <td>49.813286</td>\n",
       "      <td>51.835709</td>\n",
       "      <td>47.800831</td>\n",
       "      <td>49.982655</td>\n",
       "      <td>49.982655</td>\n",
       "      <td>44871300</td>\n",
       "    </tr>\n",
       "    <tr>\n",
       "      <th>1</th>\n",
       "      <td>2004-08-20</td>\n",
       "      <td>50.316402</td>\n",
       "      <td>54.336334</td>\n",
       "      <td>50.062355</td>\n",
       "      <td>53.952770</td>\n",
       "      <td>53.952770</td>\n",
       "      <td>22942800</td>\n",
       "    </tr>\n",
       "    <tr>\n",
       "      <th>2</th>\n",
       "      <td>2004-08-23</td>\n",
       "      <td>55.168217</td>\n",
       "      <td>56.528118</td>\n",
       "      <td>54.321388</td>\n",
       "      <td>54.495735</td>\n",
       "      <td>54.495735</td>\n",
       "      <td>18342800</td>\n",
       "    </tr>\n",
       "    <tr>\n",
       "      <th>3</th>\n",
       "      <td>2004-08-24</td>\n",
       "      <td>55.412300</td>\n",
       "      <td>55.591629</td>\n",
       "      <td>51.591621</td>\n",
       "      <td>52.239193</td>\n",
       "      <td>52.239193</td>\n",
       "      <td>15319700</td>\n",
       "    </tr>\n",
       "    <tr>\n",
       "      <th>4</th>\n",
       "      <td>2004-08-25</td>\n",
       "      <td>52.284027</td>\n",
       "      <td>53.798351</td>\n",
       "      <td>51.746044</td>\n",
       "      <td>52.802086</td>\n",
       "      <td>52.802086</td>\n",
       "      <td>9232100</td>\n",
       "    </tr>\n",
       "  </tbody>\n",
       "</table>\n",
       "</div>"
      ],
      "text/plain": [
       "         Date       Open       High        Low      Close  Adj Close    Volume\n",
       "0  2004-08-19  49.813286  51.835709  47.800831  49.982655  49.982655  44871300\n",
       "1  2004-08-20  50.316402  54.336334  50.062355  53.952770  53.952770  22942800\n",
       "2  2004-08-23  55.168217  56.528118  54.321388  54.495735  54.495735  18342800\n",
       "3  2004-08-24  55.412300  55.591629  51.591621  52.239193  52.239193  15319700\n",
       "4  2004-08-25  52.284027  53.798351  51.746044  52.802086  52.802086   9232100"
      ]
     },
     "execution_count": 5,
     "metadata": {
      "tags": []
     },
     "output_type": "execute_result"
    }
   ],
   "source": [
    "df.head()"
   ]
  },
  {
   "cell_type": "code",
   "execution_count": 0,
   "metadata": {
    "colab": {},
    "colab_type": "code",
    "id": "TlUoZ5pMYety"
   },
   "outputs": [],
   "source": []
  },
  {
   "cell_type": "markdown",
   "metadata": {
    "colab_type": "text",
    "id": "ZNTvP4saYv_w"
   },
   "source": [
    "### Train and Test Split"
   ]
  },
  {
   "cell_type": "markdown",
   "metadata": {
    "colab_type": "text",
    "id": "yTENFwwDY_oA"
   },
   "source": [
    "We will use the data of 2019 as the test data and rest will be used for training."
   ]
  },
  {
   "cell_type": "code",
   "execution_count": 6,
   "metadata": {
    "colab": {
     "base_uri": "https://localhost:8080/",
     "height": 415
    },
    "colab_type": "code",
    "id": "AY3wuPY4ZXib",
    "outputId": "98fe4737-140f-4428-b2d2-a5399413bc02"
   },
   "outputs": [
    {
     "data": {
      "text/html": [
       "<div>\n",
       "<style scoped>\n",
       "    .dataframe tbody tr th:only-of-type {\n",
       "        vertical-align: middle;\n",
       "    }\n",
       "\n",
       "    .dataframe tbody tr th {\n",
       "        vertical-align: top;\n",
       "    }\n",
       "\n",
       "    .dataframe thead th {\n",
       "        text-align: right;\n",
       "    }\n",
       "</style>\n",
       "<table border=\"1\" class=\"dataframe\">\n",
       "  <thead>\n",
       "    <tr style=\"text-align: right;\">\n",
       "      <th></th>\n",
       "      <th>Date</th>\n",
       "      <th>Open</th>\n",
       "      <th>High</th>\n",
       "      <th>Low</th>\n",
       "      <th>Close</th>\n",
       "      <th>Adj Close</th>\n",
       "      <th>Volume</th>\n",
       "    </tr>\n",
       "  </thead>\n",
       "  <tbody>\n",
       "    <tr>\n",
       "      <th>0</th>\n",
       "      <td>2004-08-19</td>\n",
       "      <td>49.813286</td>\n",
       "      <td>51.835709</td>\n",
       "      <td>47.800831</td>\n",
       "      <td>49.982655</td>\n",
       "      <td>49.982655</td>\n",
       "      <td>44871300</td>\n",
       "    </tr>\n",
       "    <tr>\n",
       "      <th>1</th>\n",
       "      <td>2004-08-20</td>\n",
       "      <td>50.316402</td>\n",
       "      <td>54.336334</td>\n",
       "      <td>50.062355</td>\n",
       "      <td>53.952770</td>\n",
       "      <td>53.952770</td>\n",
       "      <td>22942800</td>\n",
       "    </tr>\n",
       "    <tr>\n",
       "      <th>2</th>\n",
       "      <td>2004-08-23</td>\n",
       "      <td>55.168217</td>\n",
       "      <td>56.528118</td>\n",
       "      <td>54.321388</td>\n",
       "      <td>54.495735</td>\n",
       "      <td>54.495735</td>\n",
       "      <td>18342800</td>\n",
       "    </tr>\n",
       "    <tr>\n",
       "      <th>3</th>\n",
       "      <td>2004-08-24</td>\n",
       "      <td>55.412300</td>\n",
       "      <td>55.591629</td>\n",
       "      <td>51.591621</td>\n",
       "      <td>52.239193</td>\n",
       "      <td>52.239193</td>\n",
       "      <td>15319700</td>\n",
       "    </tr>\n",
       "    <tr>\n",
       "      <th>4</th>\n",
       "      <td>2004-08-25</td>\n",
       "      <td>52.284027</td>\n",
       "      <td>53.798351</td>\n",
       "      <td>51.746044</td>\n",
       "      <td>52.802086</td>\n",
       "      <td>52.802086</td>\n",
       "      <td>9232100</td>\n",
       "    </tr>\n",
       "    <tr>\n",
       "      <th>...</th>\n",
       "      <td>...</td>\n",
       "      <td>...</td>\n",
       "      <td>...</td>\n",
       "      <td>...</td>\n",
       "      <td>...</td>\n",
       "      <td>...</td>\n",
       "      <td>...</td>\n",
       "    </tr>\n",
       "    <tr>\n",
       "      <th>3612</th>\n",
       "      <td>2018-12-24</td>\n",
       "      <td>973.900024</td>\n",
       "      <td>1003.539978</td>\n",
       "      <td>970.109985</td>\n",
       "      <td>976.219971</td>\n",
       "      <td>976.219971</td>\n",
       "      <td>1590300</td>\n",
       "    </tr>\n",
       "    <tr>\n",
       "      <th>3613</th>\n",
       "      <td>2018-12-26</td>\n",
       "      <td>989.010010</td>\n",
       "      <td>1040.000000</td>\n",
       "      <td>983.000000</td>\n",
       "      <td>1039.459961</td>\n",
       "      <td>1039.459961</td>\n",
       "      <td>2373300</td>\n",
       "    </tr>\n",
       "    <tr>\n",
       "      <th>3614</th>\n",
       "      <td>2018-12-27</td>\n",
       "      <td>1017.150024</td>\n",
       "      <td>1043.890015</td>\n",
       "      <td>997.000000</td>\n",
       "      <td>1043.880005</td>\n",
       "      <td>1043.880005</td>\n",
       "      <td>2109800</td>\n",
       "    </tr>\n",
       "    <tr>\n",
       "      <th>3615</th>\n",
       "      <td>2018-12-28</td>\n",
       "      <td>1049.619995</td>\n",
       "      <td>1055.560059</td>\n",
       "      <td>1033.099976</td>\n",
       "      <td>1037.079956</td>\n",
       "      <td>1037.079956</td>\n",
       "      <td>1414800</td>\n",
       "    </tr>\n",
       "    <tr>\n",
       "      <th>3616</th>\n",
       "      <td>2018-12-31</td>\n",
       "      <td>1050.959961</td>\n",
       "      <td>1052.699951</td>\n",
       "      <td>1023.590027</td>\n",
       "      <td>1035.609985</td>\n",
       "      <td>1035.609985</td>\n",
       "      <td>1493300</td>\n",
       "    </tr>\n",
       "  </tbody>\n",
       "</table>\n",
       "<p>3617 rows × 7 columns</p>\n",
       "</div>"
      ],
      "text/plain": [
       "            Date         Open         High  ...        Close    Adj Close    Volume\n",
       "0     2004-08-19    49.813286    51.835709  ...    49.982655    49.982655  44871300\n",
       "1     2004-08-20    50.316402    54.336334  ...    53.952770    53.952770  22942800\n",
       "2     2004-08-23    55.168217    56.528118  ...    54.495735    54.495735  18342800\n",
       "3     2004-08-24    55.412300    55.591629  ...    52.239193    52.239193  15319700\n",
       "4     2004-08-25    52.284027    53.798351  ...    52.802086    52.802086   9232100\n",
       "...          ...          ...          ...  ...          ...          ...       ...\n",
       "3612  2018-12-24   973.900024  1003.539978  ...   976.219971   976.219971   1590300\n",
       "3613  2018-12-26   989.010010  1040.000000  ...  1039.459961  1039.459961   2373300\n",
       "3614  2018-12-27  1017.150024  1043.890015  ...  1043.880005  1043.880005   2109800\n",
       "3615  2018-12-28  1049.619995  1055.560059  ...  1037.079956  1037.079956   1414800\n",
       "3616  2018-12-31  1050.959961  1052.699951  ...  1035.609985  1035.609985   1493300\n",
       "\n",
       "[3617 rows x 7 columns]"
      ]
     },
     "execution_count": 6,
     "metadata": {
      "tags": []
     },
     "output_type": "execute_result"
    }
   ],
   "source": [
    "train_df = df[df['Date'] <'2019-01-01'].copy()\n",
    "train_df"
   ]
  },
  {
   "cell_type": "code",
   "execution_count": 7,
   "metadata": {
    "colab": {
     "base_uri": "https://localhost:8080/",
     "height": 415
    },
    "colab_type": "code",
    "id": "x5NGnLTRZw6o",
    "outputId": "87d51976-fc64-4f25-cdff-83cabab0da0e"
   },
   "outputs": [
    {
     "data": {
      "text/html": [
       "<div>\n",
       "<style scoped>\n",
       "    .dataframe tbody tr th:only-of-type {\n",
       "        vertical-align: middle;\n",
       "    }\n",
       "\n",
       "    .dataframe tbody tr th {\n",
       "        vertical-align: top;\n",
       "    }\n",
       "\n",
       "    .dataframe thead th {\n",
       "        text-align: right;\n",
       "    }\n",
       "</style>\n",
       "<table border=\"1\" class=\"dataframe\">\n",
       "  <thead>\n",
       "    <tr style=\"text-align: right;\">\n",
       "      <th></th>\n",
       "      <th>Date</th>\n",
       "      <th>Open</th>\n",
       "      <th>High</th>\n",
       "      <th>Low</th>\n",
       "      <th>Close</th>\n",
       "      <th>Adj Close</th>\n",
       "      <th>Volume</th>\n",
       "    </tr>\n",
       "  </thead>\n",
       "  <tbody>\n",
       "    <tr>\n",
       "      <th>3617</th>\n",
       "      <td>2019-01-02</td>\n",
       "      <td>1016.570007</td>\n",
       "      <td>1052.319946</td>\n",
       "      <td>1015.710022</td>\n",
       "      <td>1045.849976</td>\n",
       "      <td>1045.849976</td>\n",
       "      <td>1532600</td>\n",
       "    </tr>\n",
       "    <tr>\n",
       "      <th>3618</th>\n",
       "      <td>2019-01-03</td>\n",
       "      <td>1041.000000</td>\n",
       "      <td>1056.979980</td>\n",
       "      <td>1014.070007</td>\n",
       "      <td>1016.059998</td>\n",
       "      <td>1016.059998</td>\n",
       "      <td>1841100</td>\n",
       "    </tr>\n",
       "    <tr>\n",
       "      <th>3619</th>\n",
       "      <td>2019-01-04</td>\n",
       "      <td>1032.589966</td>\n",
       "      <td>1070.839966</td>\n",
       "      <td>1027.417969</td>\n",
       "      <td>1070.709961</td>\n",
       "      <td>1070.709961</td>\n",
       "      <td>2093900</td>\n",
       "    </tr>\n",
       "    <tr>\n",
       "      <th>3620</th>\n",
       "      <td>2019-01-07</td>\n",
       "      <td>1071.500000</td>\n",
       "      <td>1074.000000</td>\n",
       "      <td>1054.760010</td>\n",
       "      <td>1068.390015</td>\n",
       "      <td>1068.390015</td>\n",
       "      <td>1981900</td>\n",
       "    </tr>\n",
       "    <tr>\n",
       "      <th>3621</th>\n",
       "      <td>2019-01-08</td>\n",
       "      <td>1076.109985</td>\n",
       "      <td>1084.560059</td>\n",
       "      <td>1060.530029</td>\n",
       "      <td>1076.280029</td>\n",
       "      <td>1076.280029</td>\n",
       "      <td>1764900</td>\n",
       "    </tr>\n",
       "    <tr>\n",
       "      <th>...</th>\n",
       "      <td>...</td>\n",
       "      <td>...</td>\n",
       "      <td>...</td>\n",
       "      <td>...</td>\n",
       "      <td>...</td>\n",
       "      <td>...</td>\n",
       "      <td>...</td>\n",
       "    </tr>\n",
       "    <tr>\n",
       "      <th>3834</th>\n",
       "      <td>2019-11-11</td>\n",
       "      <td>1303.180054</td>\n",
       "      <td>1306.425049</td>\n",
       "      <td>1297.410034</td>\n",
       "      <td>1299.189941</td>\n",
       "      <td>1299.189941</td>\n",
       "      <td>1011900</td>\n",
       "    </tr>\n",
       "    <tr>\n",
       "      <th>3835</th>\n",
       "      <td>2019-11-12</td>\n",
       "      <td>1300.000000</td>\n",
       "      <td>1310.000000</td>\n",
       "      <td>1295.770020</td>\n",
       "      <td>1298.800049</td>\n",
       "      <td>1298.800049</td>\n",
       "      <td>1085900</td>\n",
       "    </tr>\n",
       "    <tr>\n",
       "      <th>3836</th>\n",
       "      <td>2019-11-13</td>\n",
       "      <td>1294.069946</td>\n",
       "      <td>1304.300049</td>\n",
       "      <td>1293.510010</td>\n",
       "      <td>1298.000000</td>\n",
       "      <td>1298.000000</td>\n",
       "      <td>826700</td>\n",
       "    </tr>\n",
       "    <tr>\n",
       "      <th>3837</th>\n",
       "      <td>2019-11-14</td>\n",
       "      <td>1297.500000</td>\n",
       "      <td>1317.000000</td>\n",
       "      <td>1295.650024</td>\n",
       "      <td>1311.459961</td>\n",
       "      <td>1311.459961</td>\n",
       "      <td>1193500</td>\n",
       "    </tr>\n",
       "    <tr>\n",
       "      <th>3838</th>\n",
       "      <td>2019-11-15</td>\n",
       "      <td>1318.939941</td>\n",
       "      <td>1334.880005</td>\n",
       "      <td>1314.280029</td>\n",
       "      <td>1334.869995</td>\n",
       "      <td>1334.869995</td>\n",
       "      <td>1782600</td>\n",
       "    </tr>\n",
       "  </tbody>\n",
       "</table>\n",
       "<p>222 rows × 7 columns</p>\n",
       "</div>"
      ],
      "text/plain": [
       "            Date         Open         High  ...        Close    Adj Close   Volume\n",
       "3617  2019-01-02  1016.570007  1052.319946  ...  1045.849976  1045.849976  1532600\n",
       "3618  2019-01-03  1041.000000  1056.979980  ...  1016.059998  1016.059998  1841100\n",
       "3619  2019-01-04  1032.589966  1070.839966  ...  1070.709961  1070.709961  2093900\n",
       "3620  2019-01-07  1071.500000  1074.000000  ...  1068.390015  1068.390015  1981900\n",
       "3621  2019-01-08  1076.109985  1084.560059  ...  1076.280029  1076.280029  1764900\n",
       "...          ...          ...          ...  ...          ...          ...      ...\n",
       "3834  2019-11-11  1303.180054  1306.425049  ...  1299.189941  1299.189941  1011900\n",
       "3835  2019-11-12  1300.000000  1310.000000  ...  1298.800049  1298.800049  1085900\n",
       "3836  2019-11-13  1294.069946  1304.300049  ...  1298.000000  1298.000000   826700\n",
       "3837  2019-11-14  1297.500000  1317.000000  ...  1311.459961  1311.459961  1193500\n",
       "3838  2019-11-15  1318.939941  1334.880005  ...  1334.869995  1334.869995  1782600\n",
       "\n",
       "[222 rows x 7 columns]"
      ]
     },
     "execution_count": 7,
     "metadata": {
      "tags": []
     },
     "output_type": "execute_result"
    }
   ],
   "source": [
    "test_df = df[df['Date'] >= '2019-01-01'].copy()\n",
    "test_df"
   ]
  },
  {
   "cell_type": "markdown",
   "metadata": {
    "colab_type": "text",
    "id": "8cYbHbLVaL1B"
   },
   "source": [
    "We will drop Date and Adj Close for training the model."
   ]
  },
  {
   "cell_type": "code",
   "execution_count": 8,
   "metadata": {
    "colab": {
     "base_uri": "https://localhost:8080/",
     "height": 202
    },
    "colab_type": "code",
    "id": "7X1dXqBCaoeq",
    "outputId": "e26c4317-d8d1-49bc-9bc6-8a3028f89e3f"
   },
   "outputs": [
    {
     "data": {
      "text/html": [
       "<div>\n",
       "<style scoped>\n",
       "    .dataframe tbody tr th:only-of-type {\n",
       "        vertical-align: middle;\n",
       "    }\n",
       "\n",
       "    .dataframe tbody tr th {\n",
       "        vertical-align: top;\n",
       "    }\n",
       "\n",
       "    .dataframe thead th {\n",
       "        text-align: right;\n",
       "    }\n",
       "</style>\n",
       "<table border=\"1\" class=\"dataframe\">\n",
       "  <thead>\n",
       "    <tr style=\"text-align: right;\">\n",
       "      <th></th>\n",
       "      <th>Open</th>\n",
       "      <th>High</th>\n",
       "      <th>Low</th>\n",
       "      <th>Close</th>\n",
       "      <th>Volume</th>\n",
       "    </tr>\n",
       "  </thead>\n",
       "  <tbody>\n",
       "    <tr>\n",
       "      <th>0</th>\n",
       "      <td>49.813286</td>\n",
       "      <td>51.835709</td>\n",
       "      <td>47.800831</td>\n",
       "      <td>49.982655</td>\n",
       "      <td>44871300</td>\n",
       "    </tr>\n",
       "    <tr>\n",
       "      <th>1</th>\n",
       "      <td>50.316402</td>\n",
       "      <td>54.336334</td>\n",
       "      <td>50.062355</td>\n",
       "      <td>53.952770</td>\n",
       "      <td>22942800</td>\n",
       "    </tr>\n",
       "    <tr>\n",
       "      <th>2</th>\n",
       "      <td>55.168217</td>\n",
       "      <td>56.528118</td>\n",
       "      <td>54.321388</td>\n",
       "      <td>54.495735</td>\n",
       "      <td>18342800</td>\n",
       "    </tr>\n",
       "    <tr>\n",
       "      <th>3</th>\n",
       "      <td>55.412300</td>\n",
       "      <td>55.591629</td>\n",
       "      <td>51.591621</td>\n",
       "      <td>52.239193</td>\n",
       "      <td>15319700</td>\n",
       "    </tr>\n",
       "    <tr>\n",
       "      <th>4</th>\n",
       "      <td>52.284027</td>\n",
       "      <td>53.798351</td>\n",
       "      <td>51.746044</td>\n",
       "      <td>52.802086</td>\n",
       "      <td>9232100</td>\n",
       "    </tr>\n",
       "  </tbody>\n",
       "</table>\n",
       "</div>"
      ],
      "text/plain": [
       "        Open       High        Low      Close    Volume\n",
       "0  49.813286  51.835709  47.800831  49.982655  44871300\n",
       "1  50.316402  54.336334  50.062355  53.952770  22942800\n",
       "2  55.168217  56.528118  54.321388  54.495735  18342800\n",
       "3  55.412300  55.591629  51.591621  52.239193  15319700\n",
       "4  52.284027  53.798351  51.746044  52.802086   9232100"
      ]
     },
     "execution_count": 8,
     "metadata": {
      "tags": []
     },
     "output_type": "execute_result"
    }
   ],
   "source": [
    "train_set = train_df.drop(['Date','Adj Close'], axis = 1)\n",
    "train_set.head()"
   ]
  },
  {
   "cell_type": "code",
   "execution_count": 0,
   "metadata": {
    "colab": {},
    "colab_type": "code",
    "id": "ZylEq7Rra6VN"
   },
   "outputs": [],
   "source": []
  },
  {
   "cell_type": "markdown",
   "metadata": {
    "colab_type": "text",
    "id": "6Yz5G51pa9e0"
   },
   "source": [
    "#### Scaling the data in the range of 0 and 1"
   ]
  },
  {
   "cell_type": "code",
   "execution_count": 9,
   "metadata": {
    "colab": {
     "base_uri": "https://localhost:8080/",
     "height": 243
    },
    "colab_type": "code",
    "id": "OhBZNMUUbCV2",
    "outputId": "dd1584c3-1ace-4506-e854-116bb17fa435"
   },
   "outputs": [
    {
     "data": {
      "text/plain": [
       "array([[3.30294890e-04, 9.44785459e-04, 0.00000000e+00, 1.34908021e-04,\n",
       "        5.43577404e-01],\n",
       "       [7.42148227e-04, 2.98909923e-03, 1.88269054e-03, 3.39307537e-03,\n",
       "        2.77885613e-01],\n",
       "       [4.71386886e-03, 4.78092896e-03, 5.42828241e-03, 3.83867225e-03,\n",
       "        2.22150736e-01],\n",
       "       ...,\n",
       "       [7.92197108e-01, 8.11970141e-01, 7.90196475e-01, 8.15799920e-01,\n",
       "        2.54672037e-02],\n",
       "       [8.18777193e-01, 8.21510648e-01, 8.20249255e-01, 8.10219301e-01,\n",
       "        1.70463908e-02],\n",
       "       [8.19874096e-01, 8.19172449e-01, 8.12332341e-01, 8.09012935e-01,\n",
       "        1.79975186e-02]])"
      ]
     },
     "execution_count": 9,
     "metadata": {
      "tags": []
     },
     "output_type": "execute_result"
    }
   ],
   "source": [
    "scaler = MinMaxScaler()\n",
    "train_set = scaler.fit_transform(train_set)\n",
    "train_set"
   ]
  },
  {
   "cell_type": "code",
   "execution_count": 0,
   "metadata": {
    "colab": {},
    "colab_type": "code",
    "id": "b336pr5CbLhW"
   },
   "outputs": [],
   "source": []
  },
  {
   "cell_type": "markdown",
   "metadata": {
    "colab_type": "text",
    "id": "HaT0OuwTbZ92"
   },
   "source": [
    "### Preparing Data for the RNN"
   ]
  },
  {
   "cell_type": "code",
   "execution_count": 0,
   "metadata": {
    "colab": {},
    "colab_type": "code",
    "id": "n0Zln3fdbd6R"
   },
   "outputs": [],
   "source": []
  },
  {
   "cell_type": "markdown",
   "metadata": {
    "colab_type": "text",
    "id": "S0LIQ9jCcHWL"
   },
   "source": [
    "We will take a 60 days window period for training the RNN. We will train the model with data from previous 60 days stock price and predict the next day price."
   ]
  },
  {
   "cell_type": "code",
   "execution_count": 0,
   "metadata": {
    "colab": {},
    "colab_type": "code",
    "id": "N_apJs5ScWWm"
   },
   "outputs": [],
   "source": [
    "# create empty lists to store the input data and the output\n",
    "X_train = []\n",
    "y_train = []"
   ]
  },
  {
   "cell_type": "code",
   "execution_count": 0,
   "metadata": {
    "colab": {},
    "colab_type": "code",
    "id": "wu8HNCgTcpCu"
   },
   "outputs": [],
   "source": [
    "for i in range(60, train_set.shape[0]):\n",
    "  X_train.append(train_set[i-60:i])\n",
    "  y_train.append(train_set[i,0])\n",
    "\n",
    "# convert to array\n",
    "X_train = np.array(X_train)\n",
    "y_train = np.array(y_train)"
   ]
  },
  {
   "cell_type": "code",
   "execution_count": 13,
   "metadata": {
    "colab": {
     "base_uri": "https://localhost:8080/",
     "height": 35
    },
    "colab_type": "code",
    "id": "VoEK8LxWd1sO",
    "outputId": "0137365e-c1db-4fc7-b7cb-b5b78cc2aa36"
   },
   "outputs": [
    {
     "data": {
      "text/plain": [
       "((3557, 60, 5), (3557,))"
      ]
     },
     "execution_count": 13,
     "metadata": {
      "tags": []
     },
     "output_type": "execute_result"
    }
   ],
   "source": [
    "X_train.shape,  y_train.shape"
   ]
  },
  {
   "cell_type": "code",
   "execution_count": 0,
   "metadata": {
    "colab": {},
    "colab_type": "code",
    "id": "UNo_T5WVd6ag"
   },
   "outputs": [],
   "source": []
  },
  {
   "cell_type": "markdown",
   "metadata": {
    "colab_type": "text",
    "id": "4SfmD8JMeCdM"
   },
   "source": [
    "### Building RNN(LSTM) Model"
   ]
  },
  {
   "cell_type": "code",
   "execution_count": 0,
   "metadata": {
    "colab": {},
    "colab_type": "code",
    "id": "YCTmFq-WeHMV"
   },
   "outputs": [],
   "source": [
    "from tensorflow.keras import Sequential\n",
    "from tensorflow.keras.layers import Dense, LSTM, Dropout"
   ]
  },
  {
   "cell_type": "code",
   "execution_count": 0,
   "metadata": {
    "colab": {},
    "colab_type": "code",
    "id": "SRorLh9IeRh1"
   },
   "outputs": [],
   "source": [
    "# Initiate the model\n",
    "regressor = Sequential()\n",
    "\n",
    "# 1st LSTM layer\n",
    "regressor.add(LSTM(units=50, activation='tanh', return_sequences=True, input_shape = (X_train.shape[1],5)))\n",
    "regressor.add(Dropout(0.2))\n",
    "\n",
    "# 2nd LSTM layer\n",
    "regressor.add(LSTM(units=60, activation='tanh', return_sequences=True))\n",
    "regressor.add(Dropout(0.3))\n",
    "\n",
    "# 3rd LSTM layer\n",
    "regressor.add(LSTM(units=80, activation='tanh', return_sequences=True))\n",
    "regressor.add(Dropout(0.4))\n",
    "\n",
    "# 4th LSTM layer\n",
    "regressor.add(LSTM(units=120, activation='tanh'))\n",
    "regressor.add(Dropout(0.5))\n",
    "\n",
    "# output layer\n",
    "regressor.add(Dense(units=1))"
   ]
  },
  {
   "cell_type": "code",
   "execution_count": 16,
   "metadata": {
    "colab": {
     "base_uri": "https://localhost:8080/",
     "height": 468
    },
    "colab_type": "code",
    "id": "AgJG5cURfd7F",
    "outputId": "c41a48b4-5624-4ffb-8539-7316692d5b96"
   },
   "outputs": [
    {
     "name": "stdout",
     "output_type": "stream",
     "text": [
      "Model: \"sequential\"\n",
      "_________________________________________________________________\n",
      "Layer (type)                 Output Shape              Param #   \n",
      "=================================================================\n",
      "lstm (LSTM)                  (None, 60, 50)            11200     \n",
      "_________________________________________________________________\n",
      "dropout (Dropout)            (None, 60, 50)            0         \n",
      "_________________________________________________________________\n",
      "lstm_1 (LSTM)                (None, 60, 60)            26640     \n",
      "_________________________________________________________________\n",
      "dropout_1 (Dropout)          (None, 60, 60)            0         \n",
      "_________________________________________________________________\n",
      "lstm_2 (LSTM)                (None, 60, 80)            45120     \n",
      "_________________________________________________________________\n",
      "dropout_2 (Dropout)          (None, 60, 80)            0         \n",
      "_________________________________________________________________\n",
      "lstm_3 (LSTM)                (None, 120)               96480     \n",
      "_________________________________________________________________\n",
      "dropout_3 (Dropout)          (None, 120)               0         \n",
      "_________________________________________________________________\n",
      "dense (Dense)                (None, 1)                 121       \n",
      "=================================================================\n",
      "Total params: 179,561\n",
      "Trainable params: 179,561\n",
      "Non-trainable params: 0\n",
      "_________________________________________________________________\n"
     ]
    }
   ],
   "source": [
    "regressor.summary()"
   ]
  },
  {
   "cell_type": "code",
   "execution_count": 0,
   "metadata": {
    "colab": {},
    "colab_type": "code",
    "id": "s6s1iwNQfhMZ"
   },
   "outputs": [],
   "source": [
    "# Compiling the model\n",
    "regressor.compile(optimizer='adam', loss='mean_squared_error')"
   ]
  },
  {
   "cell_type": "code",
   "execution_count": 18,
   "metadata": {
    "colab": {
     "base_uri": "https://localhost:8080/",
     "height": 745
    },
    "colab_type": "code",
    "id": "Yg5Zx64cfwrx",
    "outputId": "700e5a95-80bc-419f-b5ea-313992fa6a27"
   },
   "outputs": [
    {
     "name": "stdout",
     "output_type": "stream",
     "text": [
      "Train on 3557 samples\n",
      "Epoch 1/20\n",
      "3557/3557 [==============================] - 31s 9ms/sample - loss: 0.0073\n",
      "Epoch 2/20\n",
      "3557/3557 [==============================] - 23s 7ms/sample - loss: 0.0033\n",
      "Epoch 3/20\n",
      "3557/3557 [==============================] - 23s 7ms/sample - loss: 0.0028\n",
      "Epoch 4/20\n",
      "3557/3557 [==============================] - 24s 7ms/sample - loss: 0.0023\n",
      "Epoch 5/20\n",
      "3557/3557 [==============================] - 23s 7ms/sample - loss: 0.0027\n",
      "Epoch 6/20\n",
      "3557/3557 [==============================] - 23s 7ms/sample - loss: 0.0021\n",
      "Epoch 7/20\n",
      "3557/3557 [==============================] - 23s 7ms/sample - loss: 0.0022\n",
      "Epoch 8/20\n",
      "3557/3557 [==============================] - 23s 7ms/sample - loss: 0.0019\n",
      "Epoch 9/20\n",
      "3557/3557 [==============================] - 23s 7ms/sample - loss: 0.0018\n",
      "Epoch 10/20\n",
      "3557/3557 [==============================] - 23s 7ms/sample - loss: 0.0017\n",
      "Epoch 11/20\n",
      "3557/3557 [==============================] - 23s 7ms/sample - loss: 0.0015\n",
      "Epoch 12/20\n",
      "3557/3557 [==============================] - 24s 7ms/sample - loss: 0.0018\n",
      "Epoch 13/20\n",
      "3557/3557 [==============================] - 23s 7ms/sample - loss: 0.0014\n",
      "Epoch 14/20\n",
      "3557/3557 [==============================] - 23s 6ms/sample - loss: 0.0015\n",
      "Epoch 15/20\n",
      "3557/3557 [==============================] - 23s 7ms/sample - loss: 0.0014\n",
      "Epoch 16/20\n",
      "3557/3557 [==============================] - 24s 7ms/sample - loss: 0.0015\n",
      "Epoch 17/20\n",
      "3557/3557 [==============================] - 24s 7ms/sample - loss: 0.0014\n",
      "Epoch 18/20\n",
      "3557/3557 [==============================] - 23s 7ms/sample - loss: 0.0015\n",
      "Epoch 19/20\n",
      "3557/3557 [==============================] - 23s 7ms/sample - loss: 0.0014\n",
      "Epoch 20/20\n",
      "3557/3557 [==============================] - 24s 7ms/sample - loss: 0.0012\n"
     ]
    },
    {
     "data": {
      "text/plain": [
       "<tensorflow.python.keras.callbacks.History at 0x7fc7b0e0c0f0>"
      ]
     },
     "execution_count": 18,
     "metadata": {
      "tags": []
     },
     "output_type": "execute_result"
    }
   ],
   "source": [
    "# fit the model\n",
    "regressor.fit(X_train, y_train, epochs=20, batch_size=32)"
   ]
  },
  {
   "cell_type": "code",
   "execution_count": 0,
   "metadata": {
    "colab": {},
    "colab_type": "code",
    "id": "TNdP_4Lzf5ug"
   },
   "outputs": [],
   "source": []
  },
  {
   "cell_type": "markdown",
   "metadata": {
    "colab_type": "text",
    "id": "4l8y2Gyvh0aS"
   },
   "source": [
    "### Prediction"
   ]
  },
  {
   "cell_type": "markdown",
   "metadata": {
    "colab_type": "text",
    "id": "TmH_MfWqh9lK"
   },
   "source": [
    "#### Prepare the test data"
   ]
  },
  {
   "cell_type": "markdown",
   "metadata": {
    "colab_type": "text",
    "id": "Hvo6SxWHiDzL"
   },
   "source": [
    "For predicting the stock prices of the first observation in the test data we will need the prevoius 60 days stock price, which we will get from the last 60 days of data in the train set."
   ]
  },
  {
   "cell_type": "code",
   "execution_count": 0,
   "metadata": {
    "colab": {},
    "colab_type": "code",
    "id": "WPUVzp8KhyQe"
   },
   "outputs": [],
   "source": [
    "# getting last 60 days of train data\n",
    "past_60_days = train_df.tail(60)"
   ]
  },
  {
   "cell_type": "code",
   "execution_count": 22,
   "metadata": {
    "colab": {
     "base_uri": "https://localhost:8080/",
     "height": 415
    },
    "colab_type": "code",
    "id": "YHHw3ltWh2ol",
    "outputId": "ee84cb34-ec45-42ef-ad34-91bb4f5676c3"
   },
   "outputs": [
    {
     "data": {
      "text/html": [
       "<div>\n",
       "<style scoped>\n",
       "    .dataframe tbody tr th:only-of-type {\n",
       "        vertical-align: middle;\n",
       "    }\n",
       "\n",
       "    .dataframe tbody tr th {\n",
       "        vertical-align: top;\n",
       "    }\n",
       "\n",
       "    .dataframe thead th {\n",
       "        text-align: right;\n",
       "    }\n",
       "</style>\n",
       "<table border=\"1\" class=\"dataframe\">\n",
       "  <thead>\n",
       "    <tr style=\"text-align: right;\">\n",
       "      <th></th>\n",
       "      <th>Date</th>\n",
       "      <th>Open</th>\n",
       "      <th>High</th>\n",
       "      <th>Low</th>\n",
       "      <th>Close</th>\n",
       "      <th>Adj Close</th>\n",
       "      <th>Volume</th>\n",
       "    </tr>\n",
       "  </thead>\n",
       "  <tbody>\n",
       "    <tr>\n",
       "      <th>0</th>\n",
       "      <td>2018-10-04</td>\n",
       "      <td>1195.329956</td>\n",
       "      <td>1197.510010</td>\n",
       "      <td>1155.576050</td>\n",
       "      <td>1168.189941</td>\n",
       "      <td>1168.189941</td>\n",
       "      <td>2209500</td>\n",
       "    </tr>\n",
       "    <tr>\n",
       "      <th>1</th>\n",
       "      <td>2018-10-05</td>\n",
       "      <td>1167.500000</td>\n",
       "      <td>1173.500000</td>\n",
       "      <td>1145.119995</td>\n",
       "      <td>1157.349976</td>\n",
       "      <td>1157.349976</td>\n",
       "      <td>1184300</td>\n",
       "    </tr>\n",
       "    <tr>\n",
       "      <th>2</th>\n",
       "      <td>2018-10-08</td>\n",
       "      <td>1150.109985</td>\n",
       "      <td>1168.000000</td>\n",
       "      <td>1127.364014</td>\n",
       "      <td>1148.969971</td>\n",
       "      <td>1148.969971</td>\n",
       "      <td>1932400</td>\n",
       "    </tr>\n",
       "    <tr>\n",
       "      <th>3</th>\n",
       "      <td>2018-10-09</td>\n",
       "      <td>1146.150024</td>\n",
       "      <td>1154.349976</td>\n",
       "      <td>1137.572021</td>\n",
       "      <td>1138.819946</td>\n",
       "      <td>1138.819946</td>\n",
       "      <td>1308700</td>\n",
       "    </tr>\n",
       "    <tr>\n",
       "      <th>4</th>\n",
       "      <td>2018-10-10</td>\n",
       "      <td>1131.079956</td>\n",
       "      <td>1132.170044</td>\n",
       "      <td>1081.130005</td>\n",
       "      <td>1081.219971</td>\n",
       "      <td>1081.219971</td>\n",
       "      <td>2675700</td>\n",
       "    </tr>\n",
       "    <tr>\n",
       "      <th>...</th>\n",
       "      <td>...</td>\n",
       "      <td>...</td>\n",
       "      <td>...</td>\n",
       "      <td>...</td>\n",
       "      <td>...</td>\n",
       "      <td>...</td>\n",
       "      <td>...</td>\n",
       "    </tr>\n",
       "    <tr>\n",
       "      <th>277</th>\n",
       "      <td>2019-11-11</td>\n",
       "      <td>1303.180054</td>\n",
       "      <td>1306.425049</td>\n",
       "      <td>1297.410034</td>\n",
       "      <td>1299.189941</td>\n",
       "      <td>1299.189941</td>\n",
       "      <td>1011900</td>\n",
       "    </tr>\n",
       "    <tr>\n",
       "      <th>278</th>\n",
       "      <td>2019-11-12</td>\n",
       "      <td>1300.000000</td>\n",
       "      <td>1310.000000</td>\n",
       "      <td>1295.770020</td>\n",
       "      <td>1298.800049</td>\n",
       "      <td>1298.800049</td>\n",
       "      <td>1085900</td>\n",
       "    </tr>\n",
       "    <tr>\n",
       "      <th>279</th>\n",
       "      <td>2019-11-13</td>\n",
       "      <td>1294.069946</td>\n",
       "      <td>1304.300049</td>\n",
       "      <td>1293.510010</td>\n",
       "      <td>1298.000000</td>\n",
       "      <td>1298.000000</td>\n",
       "      <td>826700</td>\n",
       "    </tr>\n",
       "    <tr>\n",
       "      <th>280</th>\n",
       "      <td>2019-11-14</td>\n",
       "      <td>1297.500000</td>\n",
       "      <td>1317.000000</td>\n",
       "      <td>1295.650024</td>\n",
       "      <td>1311.459961</td>\n",
       "      <td>1311.459961</td>\n",
       "      <td>1193500</td>\n",
       "    </tr>\n",
       "    <tr>\n",
       "      <th>281</th>\n",
       "      <td>2019-11-15</td>\n",
       "      <td>1318.939941</td>\n",
       "      <td>1334.880005</td>\n",
       "      <td>1314.280029</td>\n",
       "      <td>1334.869995</td>\n",
       "      <td>1334.869995</td>\n",
       "      <td>1782600</td>\n",
       "    </tr>\n",
       "  </tbody>\n",
       "</table>\n",
       "<p>282 rows × 7 columns</p>\n",
       "</div>"
      ],
      "text/plain": [
       "           Date         Open         High  ...        Close    Adj Close   Volume\n",
       "0    2018-10-04  1195.329956  1197.510010  ...  1168.189941  1168.189941  2209500\n",
       "1    2018-10-05  1167.500000  1173.500000  ...  1157.349976  1157.349976  1184300\n",
       "2    2018-10-08  1150.109985  1168.000000  ...  1148.969971  1148.969971  1932400\n",
       "3    2018-10-09  1146.150024  1154.349976  ...  1138.819946  1138.819946  1308700\n",
       "4    2018-10-10  1131.079956  1132.170044  ...  1081.219971  1081.219971  2675700\n",
       "..          ...          ...          ...  ...          ...          ...      ...\n",
       "277  2019-11-11  1303.180054  1306.425049  ...  1299.189941  1299.189941  1011900\n",
       "278  2019-11-12  1300.000000  1310.000000  ...  1298.800049  1298.800049  1085900\n",
       "279  2019-11-13  1294.069946  1304.300049  ...  1298.000000  1298.000000   826700\n",
       "280  2019-11-14  1297.500000  1317.000000  ...  1311.459961  1311.459961  1193500\n",
       "281  2019-11-15  1318.939941  1334.880005  ...  1334.869995  1334.869995  1782600\n",
       "\n",
       "[282 rows x 7 columns]"
      ]
     },
     "execution_count": 22,
     "metadata": {
      "tags": []
     },
     "output_type": "execute_result"
    }
   ],
   "source": [
    "# adding the past 60 days data to the test data\n",
    "test_set = past_60_days.append(test_df, ignore_index=True)\n",
    "test_set"
   ]
  },
  {
   "cell_type": "code",
   "execution_count": 23,
   "metadata": {
    "colab": {
     "base_uri": "https://localhost:8080/",
     "height": 35
    },
    "colab_type": "code",
    "id": "79N9mpdbi1cj",
    "outputId": "64e51a07-82df-4cc9-d554-45af342c7d7a"
   },
   "outputs": [
    {
     "data": {
      "text/plain": [
       "((222, 7), (282, 7))"
      ]
     },
     "execution_count": 23,
     "metadata": {
      "tags": []
     },
     "output_type": "execute_result"
    }
   ],
   "source": [
    "test_df.shape, test_set.shape"
   ]
  },
  {
   "cell_type": "markdown",
   "metadata": {
    "colab_type": "text",
    "id": "hz8r55j5i_YR"
   },
   "source": [
    "We can see now we have 60 more rows in the test set, which are the past 60 days data for the first observation in the test df."
   ]
  },
  {
   "cell_type": "code",
   "execution_count": 24,
   "metadata": {
    "colab": {
     "base_uri": "https://localhost:8080/",
     "height": 202
    },
    "colab_type": "code",
    "id": "gqRnKuD5i9es",
    "outputId": "407a8644-7205-45ad-95e2-809fe1f48287"
   },
   "outputs": [
    {
     "data": {
      "text/html": [
       "<div>\n",
       "<style scoped>\n",
       "    .dataframe tbody tr th:only-of-type {\n",
       "        vertical-align: middle;\n",
       "    }\n",
       "\n",
       "    .dataframe tbody tr th {\n",
       "        vertical-align: top;\n",
       "    }\n",
       "\n",
       "    .dataframe thead th {\n",
       "        text-align: right;\n",
       "    }\n",
       "</style>\n",
       "<table border=\"1\" class=\"dataframe\">\n",
       "  <thead>\n",
       "    <tr style=\"text-align: right;\">\n",
       "      <th></th>\n",
       "      <th>Open</th>\n",
       "      <th>High</th>\n",
       "      <th>Low</th>\n",
       "      <th>Close</th>\n",
       "      <th>Volume</th>\n",
       "    </tr>\n",
       "  </thead>\n",
       "  <tbody>\n",
       "    <tr>\n",
       "      <th>0</th>\n",
       "      <td>1195.329956</td>\n",
       "      <td>1197.510010</td>\n",
       "      <td>1155.576050</td>\n",
       "      <td>1168.189941</td>\n",
       "      <td>2209500</td>\n",
       "    </tr>\n",
       "    <tr>\n",
       "      <th>1</th>\n",
       "      <td>1167.500000</td>\n",
       "      <td>1173.500000</td>\n",
       "      <td>1145.119995</td>\n",
       "      <td>1157.349976</td>\n",
       "      <td>1184300</td>\n",
       "    </tr>\n",
       "    <tr>\n",
       "      <th>2</th>\n",
       "      <td>1150.109985</td>\n",
       "      <td>1168.000000</td>\n",
       "      <td>1127.364014</td>\n",
       "      <td>1148.969971</td>\n",
       "      <td>1932400</td>\n",
       "    </tr>\n",
       "    <tr>\n",
       "      <th>3</th>\n",
       "      <td>1146.150024</td>\n",
       "      <td>1154.349976</td>\n",
       "      <td>1137.572021</td>\n",
       "      <td>1138.819946</td>\n",
       "      <td>1308700</td>\n",
       "    </tr>\n",
       "    <tr>\n",
       "      <th>4</th>\n",
       "      <td>1131.079956</td>\n",
       "      <td>1132.170044</td>\n",
       "      <td>1081.130005</td>\n",
       "      <td>1081.219971</td>\n",
       "      <td>2675700</td>\n",
       "    </tr>\n",
       "  </tbody>\n",
       "</table>\n",
       "</div>"
      ],
      "text/plain": [
       "          Open         High          Low        Close   Volume\n",
       "0  1195.329956  1197.510010  1155.576050  1168.189941  2209500\n",
       "1  1167.500000  1173.500000  1145.119995  1157.349976  1184300\n",
       "2  1150.109985  1168.000000  1127.364014  1148.969971  1932400\n",
       "3  1146.150024  1154.349976  1137.572021  1138.819946  1308700\n",
       "4  1131.079956  1132.170044  1081.130005  1081.219971  2675700"
      ]
     },
     "execution_count": 24,
     "metadata": {
      "tags": []
     },
     "output_type": "execute_result"
    }
   ],
   "source": [
    "# droping Date and Adj Close column from the test set\n",
    "test_set = test_set.drop(['Date', 'Adj Close'], axis=1)\n",
    "test_set.head()"
   ]
  },
  {
   "cell_type": "code",
   "execution_count": 26,
   "metadata": {
    "colab": {
     "base_uri": "https://localhost:8080/",
     "height": 139
    },
    "colab_type": "code",
    "id": "_33z100ljdUr",
    "outputId": "bec4c02d-9e35-4c81-b1c3-0bae3e4310c7"
   },
   "outputs": [
    {
     "data": {
      "text/plain": [
       "array([[0.93805611, 0.93755773, 0.92220906, 0.91781776, 0.0266752 ],\n",
       "       [0.91527437, 0.91792904, 0.91350452, 0.90892169, 0.01425359],\n",
       "       [0.90103881, 0.91343268, 0.89872289, 0.90204445, 0.02331778],\n",
       "       ...,\n",
       "       [1.01888518, 1.02486085, 1.03703736, 1.02434941, 0.00992081],\n",
       "       [1.02169304, 1.03524332, 1.0388189 , 1.03539564, 0.01436506],\n",
       "       [1.03924388, 1.04986061, 1.05432814, 1.05460763, 0.02150276]])"
      ]
     },
     "execution_count": 26,
     "metadata": {
      "tags": []
     },
     "output_type": "execute_result"
    }
   ],
   "source": [
    "# scaling the data\n",
    "test_set_scaled = scaler.transform(test_set)\n",
    "test_set_scaled"
   ]
  },
  {
   "cell_type": "code",
   "execution_count": 0,
   "metadata": {
    "colab": {},
    "colab_type": "code",
    "id": "dXN56smHjuOD"
   },
   "outputs": [],
   "source": [
    "# Formating the data for the RNN model\n",
    "X_test = []\n",
    "y_test = []\n",
    "\n",
    "for i in range(60, test_set_scaled.shape[0]):\n",
    "  X_test.append(test_set_scaled[i-60:i])\n",
    "  y_test.append(test_set_scaled[i,0]) "
   ]
  },
  {
   "cell_type": "code",
   "execution_count": 29,
   "metadata": {
    "colab": {
     "base_uri": "https://localhost:8080/",
     "height": 35
    },
    "colab_type": "code",
    "id": "1yrH-Ez9kce-",
    "outputId": "ccbd8168-2386-46ee-b085-ce58763078c2"
   },
   "outputs": [
    {
     "data": {
      "text/plain": [
       "((222, 60, 5), (222,))"
      ]
     },
     "execution_count": 29,
     "metadata": {
      "tags": []
     },
     "output_type": "execute_result"
    }
   ],
   "source": [
    "# convert to arrays\n",
    "X_test = np.array(X_test)\n",
    "y_test = np.array(y_test)\n",
    "\n",
    "X_test.shape, y_test.shape"
   ]
  },
  {
   "cell_type": "code",
   "execution_count": 30,
   "metadata": {
    "colab": {
     "base_uri": "https://localhost:8080/",
     "height": 1000
    },
    "colab_type": "code",
    "id": "tiSGbAvUkmcU",
    "outputId": "7940fd57-6996-4fde-ff3f-f54ade5f0b83"
   },
   "outputs": [
    {
     "data": {
      "text/plain": [
       "array([[0.7927211 ],\n",
       "       [0.79167736],\n",
       "       [0.7914306 ],\n",
       "       [0.7919169 ],\n",
       "       [0.79322684],\n",
       "       [0.79540086],\n",
       "       [0.79835254],\n",
       "       [0.8017584 ],\n",
       "       [0.805189  ],\n",
       "       [0.8082018 ],\n",
       "       [0.8107145 ],\n",
       "       [0.8129797 ],\n",
       "       [0.81520635],\n",
       "       [0.8176325 ],\n",
       "       [0.8201203 ],\n",
       "       [0.8224542 ],\n",
       "       [0.8244474 ],\n",
       "       [0.826179  ],\n",
       "       [0.8275927 ],\n",
       "       [0.8285741 ],\n",
       "       [0.8292106 ],\n",
       "       [0.8299214 ],\n",
       "       [0.83104604],\n",
       "       [0.83277285],\n",
       "       [0.83519655],\n",
       "       [0.8382097 ],\n",
       "       [0.8412843 ],\n",
       "       [0.84395087],\n",
       "       [0.84600735],\n",
       "       [0.84758604],\n",
       "       [0.84897125],\n",
       "       [0.8503078 ],\n",
       "       [0.85164684],\n",
       "       [0.8529341 ],\n",
       "       [0.8541056 ],\n",
       "       [0.8549802 ],\n",
       "       [0.8554857 ],\n",
       "       [0.855709  ],\n",
       "       [0.8557303 ],\n",
       "       [0.8556396 ],\n",
       "       [0.8555608 ],\n",
       "       [0.85574263],\n",
       "       [0.8564373 ],\n",
       "       [0.8578357 ],\n",
       "       [0.85998386],\n",
       "       [0.8626151 ],\n",
       "       [0.8652944 ],\n",
       "       [0.86794114],\n",
       "       [0.87080306],\n",
       "       [0.8741242 ],\n",
       "       [0.8778763 ],\n",
       "       [0.8818431 ],\n",
       "       [0.8857618 ],\n",
       "       [0.8895039 ],\n",
       "       [0.89313424],\n",
       "       [0.8968337 ],\n",
       "       [0.9005677 ],\n",
       "       [0.9040355 ],\n",
       "       [0.9069414 ],\n",
       "       [0.90901315],\n",
       "       [0.9101023 ],\n",
       "       [0.91028225],\n",
       "       [0.90990025],\n",
       "       [0.90935045],\n",
       "       [0.9090038 ],\n",
       "       [0.9090861 ],\n",
       "       [0.9096571 ],\n",
       "       [0.91060215],\n",
       "       [0.91168886],\n",
       "       [0.9127709 ],\n",
       "       [0.9137929 ],\n",
       "       [0.9148139 ],\n",
       "       [0.9159109 ],\n",
       "       [0.91718924],\n",
       "       [0.9187446 ],\n",
       "       [0.9206106 ],\n",
       "       [0.9227615 ],\n",
       "       [0.92525065],\n",
       "       [0.92808264],\n",
       "       [0.9311751 ],\n",
       "       [0.934448  ],\n",
       "       [0.93785065],\n",
       "       [0.94036204],\n",
       "       [0.9413602 ],\n",
       "       [0.9405834 ],\n",
       "       [0.938279  ],\n",
       "       [0.93488634],\n",
       "       [0.9308487 ],\n",
       "       [0.92651707],\n",
       "       [0.9220787 ],\n",
       "       [0.91768104],\n",
       "       [0.91321415],\n",
       "       [0.9085805 ],\n",
       "       [0.90391225],\n",
       "       [0.899722  ],\n",
       "       [0.89633065],\n",
       "       [0.8935859 ],\n",
       "       [0.8913503 ],\n",
       "       [0.88954955],\n",
       "       [0.88800234],\n",
       "       [0.8865927 ],\n",
       "       [0.8852347 ],\n",
       "       [0.8837213 ],\n",
       "       [0.8819379 ],\n",
       "       [0.87974226],\n",
       "       [0.8764935 ],\n",
       "       [0.8719639 ],\n",
       "       [0.8662672 ],\n",
       "       [0.8597298 ],\n",
       "       [0.85292476],\n",
       "       [0.84657645],\n",
       "       [0.84126335],\n",
       "       [0.8371506 ],\n",
       "       [0.834289  ],\n",
       "       [0.83257216],\n",
       "       [0.8318526 ],\n",
       "       [0.83207947],\n",
       "       [0.8330738 ],\n",
       "       [0.83472604],\n",
       "       [0.836881  ],\n",
       "       [0.8393793 ],\n",
       "       [0.84184384],\n",
       "       [0.8438188 ],\n",
       "       [0.8450563 ],\n",
       "       [0.8454729 ],\n",
       "       [0.84536594],\n",
       "       [0.84511375],\n",
       "       [0.84512275],\n",
       "       [0.84563965],\n",
       "       [0.84666526],\n",
       "       [0.8480582 ],\n",
       "       [0.84984225],\n",
       "       [0.8520692 ],\n",
       "       [0.85468626],\n",
       "       [0.8575851 ],\n",
       "       [0.8606464 ],\n",
       "       [0.8637323 ],\n",
       "       [0.8666244 ],\n",
       "       [0.86912704],\n",
       "       [0.8710951 ],\n",
       "       [0.8725768 ],\n",
       "       [0.8735852 ],\n",
       "       [0.87413394],\n",
       "       [0.8752937 ],\n",
       "       [0.87783176],\n",
       "       [0.88183063],\n",
       "       [0.8868897 ],\n",
       "       [0.89243525],\n",
       "       [0.89779145],\n",
       "       [0.9021004 ],\n",
       "       [0.9050322 ],\n",
       "       [0.90656716],\n",
       "       [0.907149  ],\n",
       "       [0.9072469 ],\n",
       "       [0.9070372 ],\n",
       "       [0.90669733],\n",
       "       [0.90619856],\n",
       "       [0.90549624],\n",
       "       [0.90469515],\n",
       "       [0.90407944],\n",
       "       [0.9037669 ],\n",
       "       [0.9038077 ],\n",
       "       [0.90413934],\n",
       "       [0.9044283 ],\n",
       "       [0.90440834],\n",
       "       [0.9040742 ],\n",
       "       [0.90345323],\n",
       "       [0.9028126 ],\n",
       "       [0.9024025 ],\n",
       "       [0.90215576],\n",
       "       [0.9020254 ],\n",
       "       [0.90219015],\n",
       "       [0.90281314],\n",
       "       [0.9038885 ],\n",
       "       [0.90529245],\n",
       "       [0.90697163],\n",
       "       [0.9090182 ],\n",
       "       [0.91148424],\n",
       "       [0.9142773 ],\n",
       "       [0.917221  ],\n",
       "       [0.92011327],\n",
       "       [0.9228859 ],\n",
       "       [0.9254195 ],\n",
       "       [0.9276548 ],\n",
       "       [0.9295231 ],\n",
       "       [0.93101907],\n",
       "       [0.9322743 ],\n",
       "       [0.9333137 ],\n",
       "       [0.9340403 ],\n",
       "       [0.93435663],\n",
       "       [0.93397385],\n",
       "       [0.9327361 ],\n",
       "       [0.93089247],\n",
       "       [0.9288346 ],\n",
       "       [0.92674494],\n",
       "       [0.92479944],\n",
       "       [0.92313397],\n",
       "       [0.9219417 ],\n",
       "       [0.9212876 ],\n",
       "       [0.92126733],\n",
       "       [0.92198604],\n",
       "       [0.9235004 ],\n",
       "       [0.9256577 ],\n",
       "       [0.92822266],\n",
       "       [0.9309295 ],\n",
       "       [0.9336126 ],\n",
       "       [0.9362398 ],\n",
       "       [0.9387658 ],\n",
       "       [0.9413397 ],\n",
       "       [0.94392073],\n",
       "       [0.9463329 ],\n",
       "       [0.9484463 ],\n",
       "       [0.95026916],\n",
       "       [0.9519883 ],\n",
       "       [0.9538165 ],\n",
       "       [0.9558025 ],\n",
       "       [0.9580109 ],\n",
       "       [0.96049094],\n",
       "       [0.96312606],\n",
       "       [0.96575516],\n",
       "       [0.96821517],\n",
       "       [0.9704552 ]], dtype=float32)"
      ]
     },
     "execution_count": 30,
     "metadata": {
      "tags": []
     },
     "output_type": "execute_result"
    }
   ],
   "source": [
    "# make prediction\n",
    "y_pred = regressor.predict(X_test)\n",
    "y_pred"
   ]
  },
  {
   "cell_type": "markdown",
   "metadata": {
    "colab_type": "text",
    "id": "FwW-c7dfk6rN"
   },
   "source": [
    "Since the prediction are in the scaled output, we need to bring them back to the original scale."
   ]
  },
  {
   "cell_type": "code",
   "execution_count": 34,
   "metadata": {
    "colab": {
     "base_uri": "https://localhost:8080/",
     "height": 52
    },
    "colab_type": "code",
    "id": "J7aECBsikwt6",
    "outputId": "e95bdad6-b8dc-4537-ea6a-b9fc08f6222b"
   },
   "outputs": [
    {
     "data": {
      "text/plain": [
       "array([8.18605127e-04, 8.17521128e-04, 8.32487534e-04, 8.20673293e-04,\n",
       "       1.21162775e-08])"
      ]
     },
     "execution_count": 34,
     "metadata": {
      "tags": []
     },
     "output_type": "execute_result"
    }
   ],
   "source": [
    "# Relative scaling of the features of the data\n",
    "scaler_scale = scaler.scale_\n",
    "scaler_scale"
   ]
  },
  {
   "cell_type": "code",
   "execution_count": 35,
   "metadata": {
    "colab": {
     "base_uri": "https://localhost:8080/",
     "height": 35
    },
    "colab_type": "code",
    "id": "5nB-kAMtlQJz",
    "outputId": "55bac195-8345-41c4-9778-66ac760a303e"
   },
   "outputs": [
    {
     "data": {
      "text/plain": [
       "1221.590199"
      ]
     },
     "execution_count": 35,
     "metadata": {
      "tags": []
     },
     "output_type": "execute_result"
    }
   ],
   "source": [
    "# taking the first relative scaling value for transforming the predictions to original scale as the first value corresponds to the first\n",
    "# column in the data that is the open price\n",
    "scale_value = 1 / scaler_scale[0]\n",
    "scale_value"
   ]
  },
  {
   "cell_type": "code",
   "execution_count": 0,
   "metadata": {
    "colab": {},
    "colab_type": "code",
    "id": "_jNYe_-Ap9mT"
   },
   "outputs": [],
   "source": [
    "# Transforming the actual and predicted stock prices to the original scale\n",
    "y_test = y_test * scale_value\n",
    "y_pred = y_pred* scale_value"
   ]
  },
  {
   "cell_type": "code",
   "execution_count": 38,
   "metadata": {
    "colab": {
     "base_uri": "https://localhost:8080/",
     "height": 191
    },
    "colab_type": "code",
    "id": "8btG26dbqaBe",
    "outputId": "c3b9016a-deac-4b96-cbf3-525024ad68a3"
   },
   "outputs": [
    {
     "data": {
      "text/plain": [
       "array([[968.3803 ],\n",
       "       [967.1053 ],\n",
       "       [966.8039 ],\n",
       "       [967.39795],\n",
       "       [968.99817],\n",
       "       [971.65393],\n",
       "       [975.25964],\n",
       "       [979.4202 ],\n",
       "       [983.611  ],\n",
       "       [987.2914 ]], dtype=float32)"
      ]
     },
     "execution_count": 38,
     "metadata": {
      "tags": []
     },
     "output_type": "execute_result"
    }
   ],
   "source": [
    "y_pred [0:10]"
   ]
  },
  {
   "cell_type": "markdown",
   "metadata": {
    "colab_type": "text",
    "id": "jJiskPjEqlGp"
   },
   "source": [
    "### Visualizing the Result"
   ]
  },
  {
   "cell_type": "code",
   "execution_count": 40,
   "metadata": {
    "colab": {
     "base_uri": "https://localhost:8080/",
     "height": 513
    },
    "colab_type": "code",
    "id": "0-jAVFduqbIS",
    "outputId": "711cc148-97b6-4e18-9c63-b14c7c902051"
   },
   "outputs": [
    {
     "data": {
      "image/png": "[encoded data removed]",
      "text/plain": [
       "<Figure size 1080x576 with 1 Axes>"
      ]
     },
     "metadata": {
      "tags": []
     },
     "output_type": "display_data"
    }
   ],
   "source": [
    "plt.figure(figsize=(15,8))\n",
    "plt.plot(y_test, color = 'red', label = \"Actual Google Stock Price\")\n",
    "plt.plot(y_pred, color = 'blue', label = 'Predicted Google Stock Price')\n",
    "plt.title('Google Stock Price Prediction')\n",
    "plt.xlabel('Time')\n",
    "plt.ylabel('Stock Prices')\n",
    "plt.show()"
   ]
  },
  {
   "cell_type": "markdown",
   "metadata": {
    "colab_type": "text",
    "id": "L5H1VSTxry6_"
   },
   "source": [
    "From the visualization of the result, we can see that although the prediction are not very accurate, the model is able to capture the trend of the stock price. Further tuning of the model cam improve the prediction."
   ]
  },
  {
   "cell_type": "code",
   "execution_count": 46,
   "metadata": {
    "colab": {
     "base_uri": "https://localhost:8080/",
     "height": 35
    },
    "colab_type": "code",
    "id": "U-ftYBworMK7",
    "outputId": "f4f79aa1-194a-423d-d38b-caa7cfdabb6f"
   },
   "outputs": [
    {
     "name": "stdout",
     "output_type": "stream",
     "text": [
      "The stock price prediction is off by on an average 47.52 Dollors\n"
     ]
    }
   ],
   "source": [
    "# Evaluation\n",
    "from sklearn.metrics import mean_squared_error\n",
    "\n",
    "# Root Mean squared error(RMSE)\n",
    "rmse = np.sqrt(mean_squared_error(y_test, y_pred))\n",
    "\n",
    "print(f'The stock price prediction is off by on an average {round(rmse,2)} Dollors')"
   ]
  },
  {
   "cell_type": "code",
   "execution_count": 0,
   "metadata": {
    "colab": {},
    "colab_type": "code",
    "id": "sfgqvjSjtqJY"
   },
   "outputs": [],
   "source": []
  }
 ],
 "metadata": {
  "accelerator": "TPU",
  "colab": {
   "name": "Google_price_prediction.ipynb",
   "provenance": []
  },
  "kernelspec": {
   "display_name": "Python 3",
   "language": "python",
   "name": "python3"
  },
  "language_info": {
   "codemirror_mode": {
    "name": "ipython",
    "version": 3
   },
   "file_extension": ".py",
   "mimetype": "text/x-python",
   "name": "python",
   "nbconvert_exporter": "python",
   "pygments_lexer": "ipython3",
   "version": "3.6.9"
  }
 },
 "nbformat": 4,
 "nbformat_minor": 1
}

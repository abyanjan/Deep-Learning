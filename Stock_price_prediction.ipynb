{
  "nbformat": 4,
  "nbformat_minor": 0,
  "metadata": {
    "colab": {
      "name": "Stock_price_prediction.ipynb",
      "provenance": []
    },
    "kernelspec": {
      "name": "python3",
      "display_name": "Python 3"
    },
    "accelerator": "GPU"
  },
  "cells": [
    {
      "cell_type": "markdown",
      "metadata": {
        "id": "aMuAq1b6iXuH",
        "colab_type": "text"
      },
      "source": [
        "# **Predicting stock prices with LSTM**"
      ]
    },
    {
      "cell_type": "code",
      "metadata": {
        "id": "nJoCdAjWiPLl",
        "colab_type": "code",
        "colab": {}
      },
      "source": [
        "# Import libraries\n",
        "import math\n",
        "import pandas_datareader as web\n",
        "import numpy as np\n",
        "import pandas as pd\n",
        "from sklearn.preprocessing import MinMaxScaler\n",
        "import matplotlib.pyplot as plt\n",
        "from sklearn.metrics import mean_squared_error\n",
        "plt.style.use('fivethirtyeight')"
      ],
      "execution_count": 0,
      "outputs": []
    },
    {
      "cell_type": "code",
      "metadata": {
        "id": "7TQSuWrKjNai",
        "colab_type": "code",
        "colab": {}
      },
      "source": [
        "import tensorflow as tf\n",
        "from tensorflow.keras.models import Sequential\n",
        "from tensorflow.keras.layers import Dense, LSTM"
      ],
      "execution_count": 0,
      "outputs": []
    },
    {
      "cell_type": "code",
      "metadata": {
        "id": "0t2r_KW-jdYE",
        "colab_type": "code",
        "outputId": "59d7d9a0-6a81-4afb-dc71-d07463d7e105",
        "colab": {
          "base_uri": "https://localhost:8080/",
          "height": 386
        }
      },
      "source": [
        "# get the stock prices for Apple\n",
        "df = web.DataReader('AAPL', data_source='yahoo', start='2012-01-01', end='2019-12-31')\n",
        "\n",
        "df.head(10)"
      ],
      "execution_count": 0,
      "outputs": [
        {
          "output_type": "execute_result",
          "data": {
            "text/html": [
              "<div>\n",
              "<style scoped>\n",
              "    .dataframe tbody tr th:only-of-type {\n",
              "        vertical-align: middle;\n",
              "    }\n",
              "\n",
              "    .dataframe tbody tr th {\n",
              "        vertical-align: top;\n",
              "    }\n",
              "\n",
              "    .dataframe thead th {\n",
              "        text-align: right;\n",
              "    }\n",
              "</style>\n",
              "<table border=\"1\" class=\"dataframe\">\n",
              "  <thead>\n",
              "    <tr style=\"text-align: right;\">\n",
              "      <th></th>\n",
              "      <th>High</th>\n",
              "      <th>Low</th>\n",
              "      <th>Open</th>\n",
              "      <th>Close</th>\n",
              "      <th>Volume</th>\n",
              "      <th>Adj Close</th>\n",
              "    </tr>\n",
              "    <tr>\n",
              "      <th>Date</th>\n",
              "      <th></th>\n",
              "      <th></th>\n",
              "      <th></th>\n",
              "      <th></th>\n",
              "      <th></th>\n",
              "      <th></th>\n",
              "    </tr>\n",
              "  </thead>\n",
              "  <tbody>\n",
              "    <tr>\n",
              "      <th>2012-01-03</th>\n",
              "      <td>58.928570</td>\n",
              "      <td>58.428570</td>\n",
              "      <td>58.485714</td>\n",
              "      <td>58.747143</td>\n",
              "      <td>75555200.0</td>\n",
              "      <td>50.994907</td>\n",
              "    </tr>\n",
              "    <tr>\n",
              "      <th>2012-01-04</th>\n",
              "      <td>59.240002</td>\n",
              "      <td>58.468571</td>\n",
              "      <td>58.571430</td>\n",
              "      <td>59.062859</td>\n",
              "      <td>65005500.0</td>\n",
              "      <td>51.268970</td>\n",
              "    </tr>\n",
              "    <tr>\n",
              "      <th>2012-01-05</th>\n",
              "      <td>59.792858</td>\n",
              "      <td>58.952858</td>\n",
              "      <td>59.278572</td>\n",
              "      <td>59.718571</td>\n",
              "      <td>67817400.0</td>\n",
              "      <td>51.838169</td>\n",
              "    </tr>\n",
              "    <tr>\n",
              "      <th>2012-01-06</th>\n",
              "      <td>60.392857</td>\n",
              "      <td>59.888573</td>\n",
              "      <td>59.967144</td>\n",
              "      <td>60.342857</td>\n",
              "      <td>79573200.0</td>\n",
              "      <td>52.380054</td>\n",
              "    </tr>\n",
              "    <tr>\n",
              "      <th>2012-01-09</th>\n",
              "      <td>61.107143</td>\n",
              "      <td>60.192856</td>\n",
              "      <td>60.785713</td>\n",
              "      <td>60.247143</td>\n",
              "      <td>98506100.0</td>\n",
              "      <td>52.296970</td>\n",
              "    </tr>\n",
              "    <tr>\n",
              "      <th>2012-01-10</th>\n",
              "      <td>60.857143</td>\n",
              "      <td>60.214287</td>\n",
              "      <td>60.844284</td>\n",
              "      <td>60.462856</td>\n",
              "      <td>64549100.0</td>\n",
              "      <td>52.484222</td>\n",
              "    </tr>\n",
              "    <tr>\n",
              "      <th>2012-01-11</th>\n",
              "      <td>60.407143</td>\n",
              "      <td>59.901428</td>\n",
              "      <td>60.382858</td>\n",
              "      <td>60.364285</td>\n",
              "      <td>53771200.0</td>\n",
              "      <td>52.398655</td>\n",
              "    </tr>\n",
              "    <tr>\n",
              "      <th>2012-01-12</th>\n",
              "      <td>60.414288</td>\n",
              "      <td>59.821430</td>\n",
              "      <td>60.325714</td>\n",
              "      <td>60.198570</td>\n",
              "      <td>53146800.0</td>\n",
              "      <td>52.254814</td>\n",
              "    </tr>\n",
              "    <tr>\n",
              "      <th>2012-01-13</th>\n",
              "      <td>60.064285</td>\n",
              "      <td>59.808571</td>\n",
              "      <td>59.957142</td>\n",
              "      <td>59.972858</td>\n",
              "      <td>56505400.0</td>\n",
              "      <td>52.058880</td>\n",
              "    </tr>\n",
              "    <tr>\n",
              "      <th>2012-01-17</th>\n",
              "      <td>60.855713</td>\n",
              "      <td>60.422855</td>\n",
              "      <td>60.599998</td>\n",
              "      <td>60.671429</td>\n",
              "      <td>60724300.0</td>\n",
              "      <td>52.665272</td>\n",
              "    </tr>\n",
              "  </tbody>\n",
              "</table>\n",
              "</div>"
            ],
            "text/plain": [
              "                 High        Low       Open      Close      Volume  Adj Close\n",
              "Date                                                                         \n",
              "2012-01-03  58.928570  58.428570  58.485714  58.747143  75555200.0  50.994907\n",
              "2012-01-04  59.240002  58.468571  58.571430  59.062859  65005500.0  51.268970\n",
              "2012-01-05  59.792858  58.952858  59.278572  59.718571  67817400.0  51.838169\n",
              "2012-01-06  60.392857  59.888573  59.967144  60.342857  79573200.0  52.380054\n",
              "2012-01-09  61.107143  60.192856  60.785713  60.247143  98506100.0  52.296970\n",
              "2012-01-10  60.857143  60.214287  60.844284  60.462856  64549100.0  52.484222\n",
              "2012-01-11  60.407143  59.901428  60.382858  60.364285  53771200.0  52.398655\n",
              "2012-01-12  60.414288  59.821430  60.325714  60.198570  53146800.0  52.254814\n",
              "2012-01-13  60.064285  59.808571  59.957142  59.972858  56505400.0  52.058880\n",
              "2012-01-17  60.855713  60.422855  60.599998  60.671429  60724300.0  52.665272"
            ]
          },
          "metadata": {
            "tags": []
          },
          "execution_count": 3
        }
      ]
    },
    {
      "cell_type": "code",
      "metadata": {
        "id": "j1MWPMhKkKHT",
        "colab_type": "code",
        "outputId": "3fdb0b81-f5c2-4ae0-d114-05e1e5daf375",
        "colab": {
          "base_uri": "https://localhost:8080/",
          "height": 518
        }
      },
      "source": [
        "# Visualize the closing price trend\n",
        "plt.figure(figsize=(16,8))\n",
        "plt.title(\"Closing Price History\")\n",
        "plt.plot(df['Close'])\n",
        "plt.xlabel('Date', fontsize = 18)\n",
        "plt.ylabel('Closing Price in USD', fontsize = 18)\n",
        "plt.show()"
      ],
      "execution_count": 0,
      "outputs": [
        {
          "output_type": "display_data",
          "data": {
            "image/png": "[encoded data removed]",
            "text/plain": [
              "<Figure size 1152x576 with 1 Axes>"
            ]
          },
          "metadata": {
            "tags": [],
            "needs_background": "light"
          }
        }
      ]
    },
    {
      "cell_type": "code",
      "metadata": {
        "id": "7EtGlA2tlvMO",
        "colab_type": "code",
        "colab": {}
      },
      "source": [
        "# taking only closing price\n",
        "close_df = df.filter(['Close'])\n",
        "\n",
        "# convert to nump array\n",
        "close_array = close_df.values"
      ],
      "execution_count": 0,
      "outputs": []
    },
    {
      "cell_type": "code",
      "metadata": {
        "id": "G5emg2uenN-i",
        "colab_type": "code",
        "outputId": "11d6ea85-0611-4655-85d4-90b964090a3c",
        "colab": {
          "base_uri": "https://localhost:8080/",
          "height": 35
        }
      },
      "source": [
        "# set the training size - 80% of the data\n",
        "training_len = math.ceil(len(close_array)*0.8)\n",
        "training_len"
      ],
      "execution_count": 0,
      "outputs": [
        {
          "output_type": "execute_result",
          "data": {
            "text/plain": [
              "1610"
            ]
          },
          "metadata": {
            "tags": []
          },
          "execution_count": 6
        }
      ]
    },
    {
      "cell_type": "markdown",
      "metadata": {
        "id": "3yYk2H_noLY-",
        "colab_type": "text"
      },
      "source": [
        "**Creating Training Data**"
      ]
    },
    {
      "cell_type": "code",
      "metadata": {
        "id": "_KUUew2roBRH",
        "colab_type": "code",
        "colab": {}
      },
      "source": [
        "train_data = close_array[0:training_len,:]"
      ],
      "execution_count": 0,
      "outputs": []
    },
    {
      "cell_type": "code",
      "metadata": {
        "id": "x-whenKyBSaM",
        "colab_type": "code",
        "outputId": "88fd27bb-fb2a-421d-da12-0a49bd1e8a63",
        "colab": {
          "base_uri": "https://localhost:8080/",
          "height": 139
        }
      },
      "source": [
        "# Scaling the data\n",
        "scaler = MinMaxScaler()\n",
        "train_data = scaler.fit_transform(train_data)\n",
        "\n",
        "train_data"
      ],
      "execution_count": 0,
      "outputs": [
        {
          "output_type": "execute_result",
          "data": {
            "text/plain": [
              "array([[0.02202713],\n",
              "       [0.02437883],\n",
              "       [0.02926309],\n",
              "       ...,\n",
              "       [0.98748609],\n",
              "       [0.98592179],\n",
              "       [0.98912483]])"
            ]
          },
          "metadata": {
            "tags": []
          },
          "execution_count": 8
        }
      ]
    },
    {
      "cell_type": "code",
      "metadata": {
        "id": "yLFa9XxDotP2",
        "colab_type": "code",
        "outputId": "e2bf02c1-02a6-42e3-c102-3f7d4dfb2d8c",
        "colab": {
          "base_uri": "https://localhost:8080/",
          "height": 243
        }
      },
      "source": [
        "# splitting training data into inputs and the output\n",
        "# taking 60 previous closing price as inputs for training and predicting the next price\n",
        "\n",
        "x_train = []\n",
        "y_train = []\n",
        "\n",
        "for i in range(60, len(train_data)):\n",
        "  x_train.append(train_data[i-60:i, 0])\n",
        "  y_train.append(train_data[i,0])\n",
        "\n",
        "  # printing a first sample of data\n",
        "  if i <= 60:\n",
        "    print(x_train)\n",
        "    print(y_train)\n"
      ],
      "execution_count": 0,
      "outputs": [
        {
          "output_type": "stream",
          "text": [
            "[array([0.02202713, 0.02437883, 0.02926309, 0.03391327, 0.03320031,\n",
            "       0.03480712, 0.03407288, 0.03283851, 0.03115723, 0.03636073,\n",
            "       0.04105348, 0.03960628, 0.03167864, 0.03924447, 0.03179568,\n",
            "       0.05972864, 0.05756849, 0.06038841, 0.06648576, 0.07017822,\n",
            "       0.06986963, 0.06873105, 0.0735834 , 0.07814842, 0.08332004,\n",
            "       0.09167333, 0.10922054, 0.10948656, 0.11925514, 0.12655493,\n",
            "       0.11400902, 0.11884012, 0.11874436, 0.13229053, 0.13036445,\n",
            "       0.13392921, 0.14033518, 0.14389999, 0.15416868, 0.1616494 ,\n",
            "       0.1638095 , 0.16456505, 0.15177444, 0.14868847, 0.14914606,\n",
            "       0.1611705 , 0.16455443, 0.17182227, 0.18895451, 0.21181167,\n",
            "       0.20753392, 0.20754455, 0.22407024, 0.22924181, 0.22555998,\n",
            "       0.22219742, 0.21869648, 0.2303272 , 0.23830809, 0.24164939])]\n",
            "[0.23339185851208905]\n"
          ],
          "name": "stdout"
        }
      ]
    },
    {
      "cell_type": "code",
      "metadata": {
        "id": "uMMlih8Oq9MN",
        "colab_type": "code",
        "colab": {}
      },
      "source": [
        "# converting x_train and y_train to array\n",
        "x_train = np.array(x_train)\n",
        "y_train = np.array(y_train)"
      ],
      "execution_count": 0,
      "outputs": []
    },
    {
      "cell_type": "code",
      "metadata": {
        "id": "sdjINtq2reM4",
        "colab_type": "code",
        "outputId": "952c1ca5-3313-4967-cbd8-7d63611ef461",
        "colab": {
          "base_uri": "https://localhost:8080/",
          "height": 35
        }
      },
      "source": [
        "x_train.shape"
      ],
      "execution_count": 0,
      "outputs": [
        {
          "output_type": "execute_result",
          "data": {
            "text/plain": [
              "(1550, 60)"
            ]
          },
          "metadata": {
            "tags": []
          },
          "execution_count": 11
        }
      ]
    },
    {
      "cell_type": "code",
      "metadata": {
        "id": "aIqN6myXrKnc",
        "colab_type": "code",
        "outputId": "5fdfb395-e83c-404a-b8ac-71a5ec288269",
        "colab": {
          "base_uri": "https://localhost:8080/",
          "height": 35
        }
      },
      "source": [
        "# reshaping the array for LSTM in to shape of (no.of obs, time step,  no.of feat)\n",
        "x_train = x_train.reshape(x_train.shape[0], x_train.shape[1], 1)\n",
        "x_train.shape"
      ],
      "execution_count": 0,
      "outputs": [
        {
          "output_type": "execute_result",
          "data": {
            "text/plain": [
              "(1550, 60, 1)"
            ]
          },
          "metadata": {
            "tags": []
          },
          "execution_count": 12
        }
      ]
    },
    {
      "cell_type": "markdown",
      "metadata": {
        "id": "Ec0S4MLzryyZ",
        "colab_type": "text"
      },
      "source": [
        "**Build LSTM Model**"
      ]
    },
    {
      "cell_type": "code",
      "metadata": {
        "id": "dU2Pp4Aerv0x",
        "colab_type": "code",
        "colab": {}
      },
      "source": [
        "model = Sequential()\n",
        "model.add(LSTM(units= 40, input_shape = (x_train.shape[1],1), return_sequences=True))\n",
        "model.add(LSTM(units = 80, return_sequences = False))\n",
        "model.add(Dense(units= 125))\n",
        "model.add(Dense(units=1))"
      ],
      "execution_count": 0,
      "outputs": []
    },
    {
      "cell_type": "code",
      "metadata": {
        "id": "8Q-L0zkpsy3q",
        "colab_type": "code",
        "colab": {}
      },
      "source": [
        "# compile the model\n",
        "model.compile(optimizer='adam', loss='mean_squared_error')"
      ],
      "execution_count": 0,
      "outputs": []
    },
    {
      "cell_type": "code",
      "metadata": {
        "id": "jgNc_k4bs70m",
        "colab_type": "code",
        "outputId": "a8f8fcb7-bc2c-46b7-a899-2628f982432f",
        "colab": {
          "base_uri": "https://localhost:8080/",
          "height": 1000
        }
      },
      "source": [
        "# train the model\n",
        "model.fit(x_train, y_train, batch_size=32, epochs= 50)"
      ],
      "execution_count": 0,
      "outputs": [
        {
          "output_type": "stream",
          "text": [
            "Epoch 1/50\n",
            "49/49 [==============================] - 1s 25ms/step - loss: 0.0188\n",
            "Epoch 2/50\n",
            "49/49 [==============================] - 1s 25ms/step - loss: 0.0010\n",
            "Epoch 3/50\n",
            "49/49 [==============================] - 1s 26ms/step - loss: 9.0355e-04\n",
            "Epoch 4/50\n",
            "49/49 [==============================] - 1s 26ms/step - loss: 8.5581e-04\n",
            "Epoch 5/50\n",
            "49/49 [==============================] - 1s 26ms/step - loss: 7.9371e-04\n",
            "Epoch 6/50\n",
            "49/49 [==============================] - 1s 26ms/step - loss: 8.2866e-04\n",
            "Epoch 7/50\n",
            "49/49 [==============================] - 1s 25ms/step - loss: 7.5555e-04\n",
            "Epoch 8/50\n",
            "49/49 [==============================] - 1s 26ms/step - loss: 7.7329e-04\n",
            "Epoch 9/50\n",
            "49/49 [==============================] - 1s 26ms/step - loss: 6.7280e-04\n",
            "Epoch 10/50\n",
            "49/49 [==============================] - 1s 26ms/step - loss: 6.0898e-04\n",
            "Epoch 11/50\n",
            "49/49 [==============================] - 1s 26ms/step - loss: 6.2864e-04\n",
            "Epoch 12/50\n",
            "49/49 [==============================] - 1s 26ms/step - loss: 5.6779e-04\n",
            "Epoch 13/50\n",
            "49/49 [==============================] - 1s 25ms/step - loss: 5.9912e-04\n",
            "Epoch 14/50\n",
            "49/49 [==============================] - 1s 25ms/step - loss: 5.6309e-04\n",
            "Epoch 15/50\n",
            "49/49 [==============================] - 1s 26ms/step - loss: 4.8902e-04\n",
            "Epoch 16/50\n",
            "49/49 [==============================] - 1s 26ms/step - loss: 5.2682e-04\n",
            "Epoch 17/50\n",
            "49/49 [==============================] - 1s 26ms/step - loss: 5.1035e-04\n",
            "Epoch 18/50\n",
            "49/49 [==============================] - 1s 26ms/step - loss: 4.2801e-04\n",
            "Epoch 19/50\n",
            "49/49 [==============================] - 1s 25ms/step - loss: 4.2745e-04\n",
            "Epoch 20/50\n",
            "49/49 [==============================] - 1s 26ms/step - loss: 4.5712e-04\n",
            "Epoch 21/50\n",
            "49/49 [==============================] - 1s 25ms/step - loss: 4.1634e-04\n",
            "Epoch 22/50\n",
            "49/49 [==============================] - 1s 25ms/step - loss: 3.7309e-04\n",
            "Epoch 23/50\n",
            "49/49 [==============================] - 1s 25ms/step - loss: 3.4898e-04\n",
            "Epoch 24/50\n",
            "49/49 [==============================] - 1s 25ms/step - loss: 3.3965e-04\n",
            "Epoch 25/50\n",
            "49/49 [==============================] - 1s 26ms/step - loss: 2.9905e-04\n",
            "Epoch 26/50\n",
            "49/49 [==============================] - 1s 25ms/step - loss: 3.3876e-04\n",
            "Epoch 27/50\n",
            "49/49 [==============================] - 1s 25ms/step - loss: 4.1037e-04\n",
            "Epoch 28/50\n",
            "49/49 [==============================] - 1s 25ms/step - loss: 2.9757e-04\n",
            "Epoch 29/50\n",
            "49/49 [==============================] - 1s 26ms/step - loss: 2.7939e-04\n",
            "Epoch 30/50\n",
            "49/49 [==============================] - 1s 25ms/step - loss: 3.3764e-04\n",
            "Epoch 31/50\n",
            "49/49 [==============================] - 1s 25ms/step - loss: 2.7635e-04\n",
            "Epoch 32/50\n",
            "49/49 [==============================] - 1s 25ms/step - loss: 2.4005e-04\n",
            "Epoch 33/50\n",
            "49/49 [==============================] - 1s 25ms/step - loss: 2.5404e-04\n",
            "Epoch 34/50\n",
            "49/49 [==============================] - 1s 25ms/step - loss: 2.4015e-04\n",
            "Epoch 35/50\n",
            "49/49 [==============================] - 1s 25ms/step - loss: 2.3289e-04\n",
            "Epoch 36/50\n",
            "49/49 [==============================] - 1s 25ms/step - loss: 2.3727e-04\n",
            "Epoch 37/50\n",
            "49/49 [==============================] - 1s 25ms/step - loss: 2.3053e-04\n",
            "Epoch 38/50\n",
            "49/49 [==============================] - 1s 25ms/step - loss: 2.1427e-04\n",
            "Epoch 39/50\n",
            "49/49 [==============================] - 1s 25ms/step - loss: 2.5161e-04\n",
            "Epoch 40/50\n",
            "49/49 [==============================] - 1s 26ms/step - loss: 2.6758e-04\n",
            "Epoch 41/50\n",
            "49/49 [==============================] - 1s 25ms/step - loss: 2.5814e-04\n",
            "Epoch 42/50\n",
            "49/49 [==============================] - 1s 25ms/step - loss: 2.0996e-04\n",
            "Epoch 43/50\n",
            "49/49 [==============================] - 1s 25ms/step - loss: 2.3467e-04\n",
            "Epoch 44/50\n",
            "49/49 [==============================] - 1s 25ms/step - loss: 2.0003e-04\n",
            "Epoch 45/50\n",
            "49/49 [==============================] - 1s 25ms/step - loss: 2.1284e-04\n",
            "Epoch 46/50\n",
            "49/49 [==============================] - 1s 25ms/step - loss: 2.1889e-04\n",
            "Epoch 47/50\n",
            "49/49 [==============================] - 1s 26ms/step - loss: 2.0866e-04\n",
            "Epoch 48/50\n",
            "49/49 [==============================] - 1s 25ms/step - loss: 2.1670e-04\n",
            "Epoch 49/50\n",
            "49/49 [==============================] - 1s 26ms/step - loss: 2.4437e-04\n",
            "Epoch 50/50\n",
            "49/49 [==============================] - 1s 25ms/step - loss: 2.2225e-04\n"
          ],
          "name": "stdout"
        },
        {
          "output_type": "execute_result",
          "data": {
            "text/plain": [
              "<tensorflow.python.keras.callbacks.History at 0x7fc10055e048>"
            ]
          },
          "metadata": {
            "tags": []
          },
          "execution_count": 15
        }
      ]
    },
    {
      "cell_type": "markdown",
      "metadata": {
        "id": "QZYCI2zKt1Ay",
        "colab_type": "text"
      },
      "source": [
        "**Test Set Evaluation**"
      ]
    },
    {
      "cell_type": "code",
      "metadata": {
        "id": "aJU7L8yPt4pO",
        "colab_type": "code",
        "colab": {}
      },
      "source": [
        "# creating test data\n",
        "test_data = close_array[training_len - 60:, :]\n",
        "\n",
        "# scale test data\n",
        "test_data = scaler.transform(test_data)\n",
        "\n",
        "# create x_test and y_test\n",
        "x_test = []\n",
        "y_test = close_array[training_len:,:] # simply getting the actual closing prices \n",
        "\n",
        "for i in range(60, len(test_data)):\n",
        "  x_test.append(test_data[i-60:i,0])\n"
      ],
      "execution_count": 0,
      "outputs": []
    },
    {
      "cell_type": "code",
      "metadata": {
        "id": "8tjzUv4gviGc",
        "colab_type": "code",
        "outputId": "b16e12e8-085a-412a-b19c-4264e5635dd2",
        "colab": {
          "base_uri": "https://localhost:8080/",
          "height": 35
        }
      },
      "source": [
        "# converting x_test to numpy array\n",
        "x_test = np.array(x_test)\n",
        "\n",
        "# reshape\n",
        "x_test = x_test.reshape(x_test.shape[0], x_test.shape[1],1)\n",
        "\n",
        "x_test.shape"
      ],
      "execution_count": 0,
      "outputs": [
        {
          "output_type": "execute_result",
          "data": {
            "text/plain": [
              "(402, 60, 1)"
            ]
          },
          "metadata": {
            "tags": []
          },
          "execution_count": 17
        }
      ]
    },
    {
      "cell_type": "code",
      "metadata": {
        "id": "8s0eoEP4v5B1",
        "colab_type": "code",
        "colab": {}
      },
      "source": [
        "# predict the values for test data\n",
        "pred_values = model.predict(x_test)\n",
        "\n",
        "# inverse transform the predictions to scale them back to original values\n",
        "pred_values = scaler.inverse_transform(pred_values)"
      ],
      "execution_count": 0,
      "outputs": []
    },
    {
      "cell_type": "code",
      "metadata": {
        "id": "iRw8-TAbwd9p",
        "colab_type": "code",
        "outputId": "2045393a-ab3c-4c04-fe05-dd2ec6e476a0",
        "colab": {
          "base_uri": "https://localhost:8080/",
          "height": 35
        }
      },
      "source": [
        "# Evaluate the predictions with RMSE\n",
        "rmse = np.sqrt(mean_squared_error(pred_values, y_test))\n",
        "rmse"
      ],
      "execution_count": 0,
      "outputs": [
        {
          "output_type": "execute_result",
          "data": {
            "text/plain": [
              "4.086178863545834"
            ]
          },
          "metadata": {
            "tags": []
          },
          "execution_count": 19
        }
      ]
    },
    {
      "cell_type": "code",
      "metadata": {
        "id": "Q5ktEebFCp_5",
        "colab_type": "code",
        "outputId": "25fb5ecd-350c-47f9-f49c-ac75a8e4d4bf",
        "colab": {
          "base_uri": "https://localhost:8080/",
          "height": 35
        }
      },
      "source": [
        "print(f\"Our model prediction is on average of by {round(rmse,2)} dollar\")"
      ],
      "execution_count": 0,
      "outputs": [
        {
          "output_type": "stream",
          "text": [
            "Our model prediction is on average of by 4.09 dollar\n"
          ],
          "name": "stdout"
        }
      ]
    },
    {
      "cell_type": "code",
      "metadata": {
        "id": "jZRO8qqtw5PN",
        "colab_type": "code",
        "colab": {}
      },
      "source": [
        "# plot prediction vs actual values\n",
        "train = close_df[:training_len]\n",
        "test = close_df[training_len:]\n",
        "test['predictions'] = pred_values"
      ],
      "execution_count": 0,
      "outputs": []
    },
    {
      "cell_type": "code",
      "metadata": {
        "id": "47rhQ2BkxtUp",
        "colab_type": "code",
        "outputId": "cb343644-5cbf-4438-a395-cc3076e72ca3",
        "colab": {
          "base_uri": "https://localhost:8080/",
          "height": 518
        }
      },
      "source": [
        "plt.figure(figsize=(16,8))\n",
        "plt.title(\"Model Evaluation\")\n",
        "plt.xlabel(\"Date\",fontsize = 18)\n",
        "plt.ylabel(\"Closing price in USD\", fontsize = 18)\n",
        "plt.plot(train['Close'])\n",
        "plt.plot(test['Close'])\n",
        "plt.plot(test['predictions'],\"g-\",linewidth = 2,)\n",
        "plt.legend(['Train','Test', 'Predictions'], loc = 'lower right')\n",
        "plt.show()"
      ],
      "execution_count": 0,
      "outputs": [
        {
          "output_type": "display_data",
          "data": {
            "image/png": "[encoded data removed]",
            "text/plain": [
              "<Figure size 1152x576 with 1 Axes>"
            ]
          },
          "metadata": {
            "tags": [],
            "needs_background": "light"
          }
        }
      ]
    },
    {
      "cell_type": "markdown",
      "metadata": {
        "id": "lup5vTbVw_WG",
        "colab_type": "text"
      },
      "source": [
        "The model is performing good with RMSE score of 4.08. We will now include \n",
        "more features such as opening price, volume, low and high price to see if we can improve the performance of the model."
      ]
    },
    {
      "cell_type": "code",
      "metadata": {
        "id": "WupPHtHVyiHe",
        "colab_type": "code",
        "outputId": "1d5dc029-d018-4f62-cd9b-1123fc103db1",
        "colab": {
          "base_uri": "https://localhost:8080/",
          "height": 233
        }
      },
      "source": [
        "more_feature_df = df.copy()\n",
        "# dropping Adj closing price\n",
        "more_feature_df.drop('Adj Close', axis = 1, inplace=True)\n",
        "more_feature_df.head()"
      ],
      "execution_count": 0,
      "outputs": [
        {
          "output_type": "execute_result",
          "data": {
            "text/html": [
              "<div>\n",
              "<style scoped>\n",
              "    .dataframe tbody tr th:only-of-type {\n",
              "        vertical-align: middle;\n",
              "    }\n",
              "\n",
              "    .dataframe tbody tr th {\n",
              "        vertical-align: top;\n",
              "    }\n",
              "\n",
              "    .dataframe thead th {\n",
              "        text-align: right;\n",
              "    }\n",
              "</style>\n",
              "<table border=\"1\" class=\"dataframe\">\n",
              "  <thead>\n",
              "    <tr style=\"text-align: right;\">\n",
              "      <th></th>\n",
              "      <th>High</th>\n",
              "      <th>Low</th>\n",
              "      <th>Open</th>\n",
              "      <th>Close</th>\n",
              "      <th>Volume</th>\n",
              "    </tr>\n",
              "    <tr>\n",
              "      <th>Date</th>\n",
              "      <th></th>\n",
              "      <th></th>\n",
              "      <th></th>\n",
              "      <th></th>\n",
              "      <th></th>\n",
              "    </tr>\n",
              "  </thead>\n",
              "  <tbody>\n",
              "    <tr>\n",
              "      <th>2012-01-03</th>\n",
              "      <td>58.928570</td>\n",
              "      <td>58.428570</td>\n",
              "      <td>58.485714</td>\n",
              "      <td>58.747143</td>\n",
              "      <td>75555200.0</td>\n",
              "    </tr>\n",
              "    <tr>\n",
              "      <th>2012-01-04</th>\n",
              "      <td>59.240002</td>\n",
              "      <td>58.468571</td>\n",
              "      <td>58.571430</td>\n",
              "      <td>59.062859</td>\n",
              "      <td>65005500.0</td>\n",
              "    </tr>\n",
              "    <tr>\n",
              "      <th>2012-01-05</th>\n",
              "      <td>59.792858</td>\n",
              "      <td>58.952858</td>\n",
              "      <td>59.278572</td>\n",
              "      <td>59.718571</td>\n",
              "      <td>67817400.0</td>\n",
              "    </tr>\n",
              "    <tr>\n",
              "      <th>2012-01-06</th>\n",
              "      <td>60.392857</td>\n",
              "      <td>59.888573</td>\n",
              "      <td>59.967144</td>\n",
              "      <td>60.342857</td>\n",
              "      <td>79573200.0</td>\n",
              "    </tr>\n",
              "    <tr>\n",
              "      <th>2012-01-09</th>\n",
              "      <td>61.107143</td>\n",
              "      <td>60.192856</td>\n",
              "      <td>60.785713</td>\n",
              "      <td>60.247143</td>\n",
              "      <td>98506100.0</td>\n",
              "    </tr>\n",
              "  </tbody>\n",
              "</table>\n",
              "</div>"
            ],
            "text/plain": [
              "                 High        Low       Open      Close      Volume\n",
              "Date                                                              \n",
              "2012-01-03  58.928570  58.428570  58.485714  58.747143  75555200.0\n",
              "2012-01-04  59.240002  58.468571  58.571430  59.062859  65005500.0\n",
              "2012-01-05  59.792858  58.952858  59.278572  59.718571  67817400.0\n",
              "2012-01-06  60.392857  59.888573  59.967144  60.342857  79573200.0\n",
              "2012-01-09  61.107143  60.192856  60.785713  60.247143  98506100.0"
            ]
          },
          "metadata": {
            "tags": []
          },
          "execution_count": 23
        }
      ]
    },
    {
      "cell_type": "code",
      "metadata": {
        "id": "Df8Bk9DnyPYX",
        "colab_type": "code",
        "outputId": "a9561ef6-5959-4a98-9a7c-e8a07d1c620a",
        "colab": {
          "base_uri": "https://localhost:8080/",
          "height": 35
        }
      },
      "source": [
        "# train_data\n",
        "train_data = more_feature_df[:training_len]\n",
        "train_data.shape"
      ],
      "execution_count": 0,
      "outputs": [
        {
          "output_type": "execute_result",
          "data": {
            "text/plain": [
              "(1610, 5)"
            ]
          },
          "metadata": {
            "tags": []
          },
          "execution_count": 24
        }
      ]
    },
    {
      "cell_type": "code",
      "metadata": {
        "id": "BlxfBkFazSS6",
        "colab_type": "code",
        "outputId": "1e89e51e-3d3c-46c3-81f6-6f290aa0a56e",
        "colab": {
          "base_uri": "https://localhost:8080/",
          "height": 202
        }
      },
      "source": [
        "# reset the index, remove the dates\n",
        "train_data = train_data.reset_index(drop=True)\n",
        "train_data.head()"
      ],
      "execution_count": 0,
      "outputs": [
        {
          "output_type": "execute_result",
          "data": {
            "text/html": [
              "<div>\n",
              "<style scoped>\n",
              "    .dataframe tbody tr th:only-of-type {\n",
              "        vertical-align: middle;\n",
              "    }\n",
              "\n",
              "    .dataframe tbody tr th {\n",
              "        vertical-align: top;\n",
              "    }\n",
              "\n",
              "    .dataframe thead th {\n",
              "        text-align: right;\n",
              "    }\n",
              "</style>\n",
              "<table border=\"1\" class=\"dataframe\">\n",
              "  <thead>\n",
              "    <tr style=\"text-align: right;\">\n",
              "      <th></th>\n",
              "      <th>High</th>\n",
              "      <th>Low</th>\n",
              "      <th>Open</th>\n",
              "      <th>Close</th>\n",
              "      <th>Volume</th>\n",
              "    </tr>\n",
              "  </thead>\n",
              "  <tbody>\n",
              "    <tr>\n",
              "      <th>0</th>\n",
              "      <td>58.928570</td>\n",
              "      <td>58.428570</td>\n",
              "      <td>58.485714</td>\n",
              "      <td>58.747143</td>\n",
              "      <td>75555200.0</td>\n",
              "    </tr>\n",
              "    <tr>\n",
              "      <th>1</th>\n",
              "      <td>59.240002</td>\n",
              "      <td>58.468571</td>\n",
              "      <td>58.571430</td>\n",
              "      <td>59.062859</td>\n",
              "      <td>65005500.0</td>\n",
              "    </tr>\n",
              "    <tr>\n",
              "      <th>2</th>\n",
              "      <td>59.792858</td>\n",
              "      <td>58.952858</td>\n",
              "      <td>59.278572</td>\n",
              "      <td>59.718571</td>\n",
              "      <td>67817400.0</td>\n",
              "    </tr>\n",
              "    <tr>\n",
              "      <th>3</th>\n",
              "      <td>60.392857</td>\n",
              "      <td>59.888573</td>\n",
              "      <td>59.967144</td>\n",
              "      <td>60.342857</td>\n",
              "      <td>79573200.0</td>\n",
              "    </tr>\n",
              "    <tr>\n",
              "      <th>4</th>\n",
              "      <td>61.107143</td>\n",
              "      <td>60.192856</td>\n",
              "      <td>60.785713</td>\n",
              "      <td>60.247143</td>\n",
              "      <td>98506100.0</td>\n",
              "    </tr>\n",
              "  </tbody>\n",
              "</table>\n",
              "</div>"
            ],
            "text/plain": [
              "        High        Low       Open      Close      Volume\n",
              "0  58.928570  58.428570  58.485714  58.747143  75555200.0\n",
              "1  59.240002  58.468571  58.571430  59.062859  65005500.0\n",
              "2  59.792858  58.952858  59.278572  59.718571  67817400.0\n",
              "3  60.392857  59.888573  59.967144  60.342857  79573200.0\n",
              "4  61.107143  60.192856  60.785713  60.247143  98506100.0"
            ]
          },
          "metadata": {
            "tags": []
          },
          "execution_count": 25
        }
      ]
    },
    {
      "cell_type": "code",
      "metadata": {
        "id": "OesC6Ye9z5V3",
        "colab_type": "code",
        "outputId": "0cc24842-4830-448c-cfbe-5c12bf593055",
        "colab": {
          "base_uri": "https://localhost:8080/",
          "height": 139
        }
      },
      "source": [
        "# scaling the data\n",
        "scaler = MinMaxScaler()\n",
        "scaler.fit(train_data)\n",
        "\n",
        "train_scaled = scaler.transform(train_data)\n",
        "train_scaled"
      ],
      "execution_count": 0,
      "outputs": [
        {
          "output_type": "execute_result",
          "data": {
            "text/plain": [
              "array([[0.01382652, 0.02570112, 0.02283528, 0.02202713, 0.17553371],\n",
              "       [0.01616312, 0.02600223, 0.02347464, 0.02437883, 0.1466347 ],\n",
              "       [0.02031106, 0.02964772, 0.02874923, 0.02926309, 0.1543374 ],\n",
              "       ...,\n",
              "       [0.98596988, 0.98419214, 0.97657866, 0.98748609, 0.02351021],\n",
              "       [0.98852079, 0.98757962, 0.99462949, 0.98592179, 0.0322092 ],\n",
              "       [0.994598  , 0.99841917, 0.99060155, 0.98912483, 0.0163951 ]])"
            ]
          },
          "metadata": {
            "tags": []
          },
          "execution_count": 26
        }
      ]
    },
    {
      "cell_type": "code",
      "metadata": {
        "id": "qQSIXa6e0FjG",
        "colab_type": "code",
        "colab": {}
      },
      "source": [
        "# splitting training data into inputs and the output\n",
        "# taking 60 previous data points as inputs for training and predicting the next closing price\n",
        "\n",
        "x_train = []\n",
        "y_train = []\n",
        "\n",
        "for i in range(60, len(train_data)):\n",
        "  x_train.append(train_scaled[i-60:i])  \n",
        "  y_train.append(train_scaled[i,3]) # closing price is in the 4 th column\n"
      ],
      "execution_count": 0,
      "outputs": []
    },
    {
      "cell_type": "code",
      "metadata": {
        "id": "osmV6KMm07uB",
        "colab_type": "code",
        "outputId": "c492cd7c-83a8-4061-e8ce-03ea5ce63f60",
        "colab": {
          "base_uri": "https://localhost:8080/",
          "height": 35
        }
      },
      "source": [
        "# convert the list to array\n",
        "x_train = np.array(x_train)\n",
        "y_train  = np.array(y_train)\n",
        "\n",
        "x_train.shape, y_train.shape"
      ],
      "execution_count": 0,
      "outputs": [
        {
          "output_type": "execute_result",
          "data": {
            "text/plain": [
              "((1550, 60, 5), (1550,))"
            ]
          },
          "metadata": {
            "tags": []
          },
          "execution_count": 28
        }
      ]
    },
    {
      "cell_type": "markdown",
      "metadata": {
        "id": "IBoiuPT92Vwn",
        "colab_type": "text"
      },
      "source": [
        "## **LSTM Model**"
      ]
    },
    {
      "cell_type": "code",
      "metadata": {
        "id": "95Dnjh8BMIdg",
        "colab_type": "code",
        "colab": {}
      },
      "source": [
        "from tensorflow.keras.layers import Dropout"
      ],
      "execution_count": 0,
      "outputs": []
    },
    {
      "cell_type": "code",
      "metadata": {
        "id": "I6J-QSVH14lf",
        "colab_type": "code",
        "colab": {}
      },
      "source": [
        "model = Sequential()\n",
        "model.add(LSTM(units= 40, input_shape = (x_train.shape[1],5), return_sequences=True))\n",
        "model.add(LSTM(units = 80, return_sequences = False))\n",
        "#model.add(LSTM(units = 120, return_sequences = False))\n",
        "model.add(Dense(units= 125))\n",
        "model.add(Dense(units=1))"
      ],
      "execution_count": 0,
      "outputs": []
    },
    {
      "cell_type": "code",
      "metadata": {
        "id": "1Rj8CVEH2hlJ",
        "colab_type": "code",
        "outputId": "a8a32ab4-79b0-4e48-894c-4959ea2b5093",
        "colab": {
          "base_uri": "https://localhost:8080/",
          "height": 295
        }
      },
      "source": [
        "model.summary()"
      ],
      "execution_count": 0,
      "outputs": [
        {
          "output_type": "stream",
          "text": [
            "Model: \"sequential_1\"\n",
            "_________________________________________________________________\n",
            "Layer (type)                 Output Shape              Param #   \n",
            "=================================================================\n",
            "lstm_2 (LSTM)                (None, 60, 40)            7360      \n",
            "_________________________________________________________________\n",
            "lstm_3 (LSTM)                (None, 80)                38720     \n",
            "_________________________________________________________________\n",
            "dense_2 (Dense)              (None, 125)               10125     \n",
            "_________________________________________________________________\n",
            "dense_3 (Dense)              (None, 1)                 126       \n",
            "=================================================================\n",
            "Total params: 56,331\n",
            "Trainable params: 56,331\n",
            "Non-trainable params: 0\n",
            "_________________________________________________________________\n"
          ],
          "name": "stdout"
        }
      ]
    },
    {
      "cell_type": "code",
      "metadata": {
        "id": "d31PRRri2jio",
        "colab_type": "code",
        "colab": {}
      },
      "source": [
        "model.compile(optimizer='adam', loss = 'mean_squared_error')"
      ],
      "execution_count": 0,
      "outputs": []
    },
    {
      "cell_type": "code",
      "metadata": {
        "id": "CxvoNRrL2vV5",
        "colab_type": "code",
        "outputId": "54e10206-f831-428a-f5c4-eac582467dd2",
        "colab": {
          "base_uri": "https://localhost:8080/",
          "height": 1000
        }
      },
      "source": [
        "history = model.fit(x_train, y_train, epochs=50, batch_size=32)"
      ],
      "execution_count": 0,
      "outputs": [
        {
          "output_type": "stream",
          "text": [
            "Epoch 1/50\n",
            "49/49 [==============================] - 1s 26ms/step - loss: 0.0063\n",
            "Epoch 2/50\n",
            "49/49 [==============================] - 1s 25ms/step - loss: 8.3697e-04\n",
            "Epoch 3/50\n",
            "49/49 [==============================] - 1s 25ms/step - loss: 7.9558e-04\n",
            "Epoch 4/50\n",
            "49/49 [==============================] - 1s 26ms/step - loss: 7.7375e-04\n",
            "Epoch 5/50\n",
            "49/49 [==============================] - 1s 25ms/step - loss: 8.1239e-04\n",
            "Epoch 6/50\n",
            "49/49 [==============================] - 1s 25ms/step - loss: 6.6923e-04\n",
            "Epoch 7/50\n",
            "49/49 [==============================] - 1s 25ms/step - loss: 7.5739e-04\n",
            "Epoch 8/50\n",
            "49/49 [==============================] - 1s 25ms/step - loss: 6.4872e-04\n",
            "Epoch 9/50\n",
            "49/49 [==============================] - 1s 25ms/step - loss: 6.4341e-04\n",
            "Epoch 10/50\n",
            "49/49 [==============================] - 1s 25ms/step - loss: 5.8987e-04\n",
            "Epoch 11/50\n",
            "49/49 [==============================] - 1s 26ms/step - loss: 7.2294e-04\n",
            "Epoch 12/50\n",
            "49/49 [==============================] - 1s 25ms/step - loss: 6.7064e-04\n",
            "Epoch 13/50\n",
            "49/49 [==============================] - 1s 25ms/step - loss: 5.5764e-04\n",
            "Epoch 14/50\n",
            "49/49 [==============================] - 1s 25ms/step - loss: 5.2136e-04\n",
            "Epoch 15/50\n",
            "49/49 [==============================] - 1s 25ms/step - loss: 4.8547e-04\n",
            "Epoch 16/50\n",
            "49/49 [==============================] - 1s 25ms/step - loss: 6.0141e-04\n",
            "Epoch 17/50\n",
            "49/49 [==============================] - 1s 25ms/step - loss: 4.6238e-04\n",
            "Epoch 18/50\n",
            "49/49 [==============================] - 1s 25ms/step - loss: 4.4958e-04\n",
            "Epoch 19/50\n",
            "49/49 [==============================] - 1s 25ms/step - loss: 4.0917e-04\n",
            "Epoch 20/50\n",
            "49/49 [==============================] - 1s 25ms/step - loss: 5.2911e-04\n",
            "Epoch 21/50\n",
            "49/49 [==============================] - 1s 25ms/step - loss: 3.5054e-04\n",
            "Epoch 22/50\n",
            "49/49 [==============================] - 1s 25ms/step - loss: 3.6651e-04\n",
            "Epoch 23/50\n",
            "49/49 [==============================] - 1s 25ms/step - loss: 3.5504e-04\n",
            "Epoch 24/50\n",
            "49/49 [==============================] - 1s 25ms/step - loss: 4.1400e-04\n",
            "Epoch 25/50\n",
            "49/49 [==============================] - 1s 25ms/step - loss: 2.9680e-04\n",
            "Epoch 26/50\n",
            "49/49 [==============================] - 1s 25ms/step - loss: 3.1744e-04\n",
            "Epoch 27/50\n",
            "49/49 [==============================] - 1s 25ms/step - loss: 3.2145e-04\n",
            "Epoch 28/50\n",
            "49/49 [==============================] - 1s 26ms/step - loss: 2.9120e-04\n",
            "Epoch 29/50\n",
            "49/49 [==============================] - 1s 25ms/step - loss: 2.7515e-04\n",
            "Epoch 30/50\n",
            "49/49 [==============================] - 1s 25ms/step - loss: 2.6308e-04\n",
            "Epoch 31/50\n",
            "49/49 [==============================] - 1s 25ms/step - loss: 2.8927e-04\n",
            "Epoch 32/50\n",
            "49/49 [==============================] - 1s 25ms/step - loss: 2.8451e-04\n",
            "Epoch 33/50\n",
            "49/49 [==============================] - 1s 25ms/step - loss: 3.2771e-04\n",
            "Epoch 34/50\n",
            "49/49 [==============================] - 1s 25ms/step - loss: 2.6257e-04\n",
            "Epoch 35/50\n",
            "49/49 [==============================] - 1s 25ms/step - loss: 2.5716e-04\n",
            "Epoch 36/50\n",
            "49/49 [==============================] - 1s 25ms/step - loss: 2.3676e-04\n",
            "Epoch 37/50\n",
            "49/49 [==============================] - 1s 25ms/step - loss: 2.3810e-04\n",
            "Epoch 38/50\n",
            "49/49 [==============================] - 1s 25ms/step - loss: 2.1743e-04\n",
            "Epoch 39/50\n",
            "49/49 [==============================] - 1s 25ms/step - loss: 2.6341e-04\n",
            "Epoch 40/50\n",
            "49/49 [==============================] - 1s 25ms/step - loss: 2.1908e-04\n",
            "Epoch 41/50\n",
            "49/49 [==============================] - 1s 25ms/step - loss: 2.2677e-04\n",
            "Epoch 42/50\n",
            "49/49 [==============================] - 1s 25ms/step - loss: 2.3249e-04\n",
            "Epoch 43/50\n",
            "49/49 [==============================] - 1s 26ms/step - loss: 2.2755e-04\n",
            "Epoch 44/50\n",
            "49/49 [==============================] - 1s 25ms/step - loss: 2.1363e-04\n",
            "Epoch 45/50\n",
            "49/49 [==============================] - 1s 25ms/step - loss: 2.6420e-04\n",
            "Epoch 46/50\n",
            "49/49 [==============================] - 1s 25ms/step - loss: 2.6133e-04\n",
            "Epoch 47/50\n",
            "49/49 [==============================] - 1s 25ms/step - loss: 2.0881e-04\n",
            "Epoch 48/50\n",
            "49/49 [==============================] - 1s 25ms/step - loss: 2.0491e-04\n",
            "Epoch 49/50\n",
            "49/49 [==============================] - 1s 25ms/step - loss: 2.9730e-04\n",
            "Epoch 50/50\n",
            "49/49 [==============================] - 1s 25ms/step - loss: 2.1350e-04\n"
          ],
          "name": "stdout"
        }
      ]
    },
    {
      "cell_type": "markdown",
      "metadata": {
        "id": "89dYMrgC3A_j",
        "colab_type": "text"
      },
      "source": [
        "## **Test Set Evaluation**"
      ]
    },
    {
      "cell_type": "code",
      "metadata": {
        "id": "HlpigCSu4KPN",
        "colab_type": "code",
        "colab": {}
      },
      "source": [
        "test_data = more_feature_df[training_len - 60 :]\n",
        "\n",
        "test_data = test_data.reset_index(drop=True)"
      ],
      "execution_count": 0,
      "outputs": []
    },
    {
      "cell_type": "code",
      "metadata": {
        "id": "LoMMDUiC48Nd",
        "colab_type": "code",
        "outputId": "28363f99-51b3-4a64-eed7-f20c26771eb0",
        "colab": {
          "base_uri": "https://localhost:8080/",
          "height": 202
        }
      },
      "source": [
        "test_data.head()"
      ],
      "execution_count": 0,
      "outputs": [
        {
          "output_type": "execute_result",
          "data": {
            "text/html": [
              "<div>\n",
              "<style scoped>\n",
              "    .dataframe tbody tr th:only-of-type {\n",
              "        vertical-align: middle;\n",
              "    }\n",
              "\n",
              "    .dataframe tbody tr th {\n",
              "        vertical-align: top;\n",
              "    }\n",
              "\n",
              "    .dataframe thead th {\n",
              "        text-align: right;\n",
              "    }\n",
              "</style>\n",
              "<table border=\"1\" class=\"dataframe\">\n",
              "  <thead>\n",
              "    <tr style=\"text-align: right;\">\n",
              "      <th></th>\n",
              "      <th>High</th>\n",
              "      <th>Low</th>\n",
              "      <th>Open</th>\n",
              "      <th>Close</th>\n",
              "      <th>Volume</th>\n",
              "    </tr>\n",
              "  </thead>\n",
              "  <tbody>\n",
              "    <tr>\n",
              "      <th>0</th>\n",
              "      <td>176.300003</td>\n",
              "      <td>172.449997</td>\n",
              "      <td>172.800003</td>\n",
              "      <td>176.210007</td>\n",
              "      <td>38454000.0</td>\n",
              "    </tr>\n",
              "    <tr>\n",
              "      <th>1</th>\n",
              "      <td>177.740005</td>\n",
              "      <td>174.520004</td>\n",
              "      <td>175.210007</td>\n",
              "      <td>176.820007</td>\n",
              "      <td>28401400.0</td>\n",
              "    </tr>\n",
              "    <tr>\n",
              "      <th>2</th>\n",
              "      <td>178.250000</td>\n",
              "      <td>176.130005</td>\n",
              "      <td>177.910004</td>\n",
              "      <td>176.669998</td>\n",
              "      <td>23788500.0</td>\n",
              "    </tr>\n",
              "    <tr>\n",
              "      <th>3</th>\n",
              "      <td>175.850006</td>\n",
              "      <td>174.270004</td>\n",
              "      <td>174.940002</td>\n",
              "      <td>175.029999</td>\n",
              "      <td>31703500.0</td>\n",
              "    </tr>\n",
              "    <tr>\n",
              "      <th>4</th>\n",
              "      <td>177.119995</td>\n",
              "      <td>175.070007</td>\n",
              "      <td>175.479996</td>\n",
              "      <td>176.940002</td>\n",
              "      <td>23774100.0</td>\n",
              "    </tr>\n",
              "  </tbody>\n",
              "</table>\n",
              "</div>"
            ],
            "text/plain": [
              "         High         Low        Open       Close      Volume\n",
              "0  176.300003  172.449997  172.800003  176.210007  38454000.0\n",
              "1  177.740005  174.520004  175.210007  176.820007  28401400.0\n",
              "2  178.250000  176.130005  177.910004  176.669998  23788500.0\n",
              "3  175.850006  174.270004  174.940002  175.029999  31703500.0\n",
              "4  177.119995  175.070007  175.479996  176.940002  23774100.0"
            ]
          },
          "metadata": {
            "tags": []
          },
          "execution_count": 34
        }
      ]
    },
    {
      "cell_type": "code",
      "metadata": {
        "id": "Z19NdjN_3bkh",
        "colab_type": "code",
        "colab": {}
      },
      "source": [
        "# scaling test data\n",
        "test_scaled = scaler.transform(test_data)"
      ],
      "execution_count": 0,
      "outputs": []
    },
    {
      "cell_type": "code",
      "metadata": {
        "id": "Q2e1-lM324cT",
        "colab_type": "code",
        "colab": {}
      },
      "source": [
        "# prepare test data for LSTM\n",
        "x_test= []\n",
        "y_test = test_data['Close'][60:] # simply get the the actual closing price\n",
        "\n",
        "for i in range(60, len(test_data)):\n",
        "  x_test.append(test_scaled[i-60:i])  \n",
        "  "
      ],
      "execution_count": 0,
      "outputs": []
    },
    {
      "cell_type": "code",
      "metadata": {
        "id": "jtUyexxV3VMk",
        "colab_type": "code",
        "outputId": "8a916ec1-1435-4a2d-bf01-7154a676c070",
        "colab": {
          "base_uri": "https://localhost:8080/",
          "height": 35
        }
      },
      "source": [
        "x_test = np.array(x_test)\n",
        "y_test = np.array(y_test)\n",
        "\n",
        "x_test.shape, y_test.shape"
      ],
      "execution_count": 0,
      "outputs": [
        {
          "output_type": "execute_result",
          "data": {
            "text/plain": [
              "((402, 60, 5), (402,))"
            ]
          },
          "metadata": {
            "tags": []
          },
          "execution_count": 37
        }
      ]
    },
    {
      "cell_type": "code",
      "metadata": {
        "id": "NfMVs-Bs5fjm",
        "colab_type": "code",
        "colab": {}
      },
      "source": [
        "# prediction\n",
        "y_pred = model.predict(x_test)"
      ],
      "execution_count": 0,
      "outputs": []
    },
    {
      "cell_type": "code",
      "metadata": {
        "id": "7S6nnbTuKJqB",
        "colab_type": "code",
        "outputId": "aeba0747-86c9-4aa9-a0e0-7c2006e1d7d1",
        "colab": {
          "base_uri": "https://localhost:8080/",
          "height": 35
        }
      },
      "source": [
        "y_pred.shape"
      ],
      "execution_count": 0,
      "outputs": [
        {
          "output_type": "execute_result",
          "data": {
            "text/plain": [
              "(402, 1)"
            ]
          },
          "metadata": {
            "tags": []
          },
          "execution_count": 39
        }
      ]
    },
    {
      "cell_type": "code",
      "metadata": {
        "id": "Kr1-gjXz6wO7",
        "colab_type": "code",
        "colab": {}
      },
      "source": [
        "# rescaling back the prediction to actual scale\n",
        "# array to hold the predictions in the sahpe of actual data\n",
        "y_pred_rescaled = np.zeros(shape=(402, 5))\n",
        "\n",
        "# put the prediction in the right positioin - 4\n",
        "y_pred_rescaled[:,3] = y_pred[:,0]"
      ],
      "execution_count": 0,
      "outputs": []
    },
    {
      "cell_type": "code",
      "metadata": {
        "id": "UXTBdWzC7NxK",
        "colab_type": "code",
        "outputId": "b6cc9f29-abfe-4ade-d555-c5c774065894",
        "colab": {
          "base_uri": "https://localhost:8080/",
          "height": 139
        }
      },
      "source": [
        "y_pred_rescaled"
      ],
      "execution_count": 0,
      "outputs": [
        {
          "output_type": "execute_result",
          "data": {
            "text/plain": [
              "array([[0.        , 0.        , 0.        , 0.98538631, 0.        ],\n",
              "       [0.        , 0.        , 0.        , 0.97648466, 0.        ],\n",
              "       [0.        , 0.        , 0.        , 0.97584093, 0.        ],\n",
              "       ...,\n",
              "       [0.        , 0.        , 0.        , 1.69604361, 0.        ],\n",
              "       [0.        , 0.        , 0.        , 1.68865097, 0.        ],\n",
              "       [0.        , 0.        , 0.        , 1.68852556, 0.        ]])"
            ]
          },
          "metadata": {
            "tags": []
          },
          "execution_count": 41
        }
      ]
    },
    {
      "cell_type": "code",
      "metadata": {
        "id": "6bdyQqR_6Gbh",
        "colab_type": "code",
        "colab": {}
      },
      "source": [
        "# inverse transform\n",
        "y_pred_rescaled = scaler.inverse_transform(y_pred_rescaled)\n",
        "#y_pred_rescaled"
      ],
      "execution_count": 0,
      "outputs": []
    },
    {
      "cell_type": "code",
      "metadata": {
        "id": "QXJ95-Nf9bN4",
        "colab_type": "code",
        "colab": {}
      },
      "source": [
        "# take the 4 the column only\n",
        "y_pred = y_pred_rescaled[:,3]"
      ],
      "execution_count": 0,
      "outputs": []
    },
    {
      "cell_type": "code",
      "metadata": {
        "id": "bkfaZpVD_AFc",
        "colab_type": "code",
        "colab": {}
      },
      "source": [
        "rmse = np.sqrt(mean_squared_error(y_test, y_pred))"
      ],
      "execution_count": 0,
      "outputs": []
    },
    {
      "cell_type": "code",
      "metadata": {
        "id": "NuqwztE2_LuQ",
        "colab_type": "code",
        "outputId": "15aa4e51-a613-4e26-ed57-a2ae6a936d22",
        "colab": {
          "base_uri": "https://localhost:8080/",
          "height": 35
        }
      },
      "source": [
        "rmse"
      ],
      "execution_count": 0,
      "outputs": [
        {
          "output_type": "execute_result",
          "data": {
            "text/plain": [
              "4.146819521174936"
            ]
          },
          "metadata": {
            "tags": []
          },
          "execution_count": 45
        }
      ]
    },
    {
      "cell_type": "code",
      "metadata": {
        "id": "9d8Pj-c7Nhsj",
        "colab_type": "code",
        "outputId": "5cdbf677-d9ed-4f4b-dcec-e586ddd747bb",
        "colab": {
          "base_uri": "https://localhost:8080/",
          "height": 35
        }
      },
      "source": [
        "print(f\"Our model prediction is on average of by {round(rmse,2)} dollar\")"
      ],
      "execution_count": 0,
      "outputs": [
        {
          "output_type": "stream",
          "text": [
            "Our model prediction is on average of by 4.15 dollar\n"
          ],
          "name": "stdout"
        }
      ]
    },
    {
      "cell_type": "code",
      "metadata": {
        "id": "8c1DqnEQ_Mek",
        "colab_type": "code",
        "colab": {}
      },
      "source": [
        "# visualization\n",
        "# plot prediction vs actual values\n",
        "train = more_feature_df.iloc[:training_len,:]\n",
        "test = more_feature_df.iloc[training_len:,:]\n",
        "test['predictions'] = y_pred"
      ],
      "execution_count": 0,
      "outputs": []
    },
    {
      "cell_type": "code",
      "metadata": {
        "id": "RkTwANG8_ZUW",
        "colab_type": "code",
        "outputId": "98b5e45d-2f84-4138-a0a3-ba518c6494e1",
        "colab": {
          "base_uri": "https://localhost:8080/",
          "height": 518
        }
      },
      "source": [
        "plt.figure(figsize=(16,8))\n",
        "plt.title(\"Model Evaluation\")\n",
        "plt.xlabel(\"Date\",fontsize = 18)\n",
        "plt.ylabel(\"Closing price in USD\", fontsize = 18)\n",
        "plt.plot(train['Close'])\n",
        "plt.plot(test['Close'])\n",
        "plt.plot(test['predictions'], 'g-', linewidth = 2)\n",
        "plt.legend(['Train','Test', 'Predictions'], loc = 'lower right')\n",
        "plt.show()"
      ],
      "execution_count": 0,
      "outputs": [
        {
          "output_type": "display_data",
          "data": {
            "image/png": "[encoded data removed]",
            "text/plain": [
              "<Figure size 1152x576 with 1 Axes>"
            ]
          },
          "metadata": {
            "tags": [],
            "needs_background": "light"
          }
        }
      ]
    },
    {
      "cell_type": "markdown",
      "metadata": {
        "id": "TSZC6bx8O_KZ",
        "colab_type": "text"
      },
      "source": [
        "By using more features our model did not perform any better, it was slightly bad than using only the closing price. We can play more with the model structure to see for further improvement."
      ]
    },
    {
      "cell_type": "code",
      "metadata": {
        "id": "NDceom8Y_8Ro",
        "colab_type": "code",
        "colab": {}
      },
      "source": [
        ""
      ],
      "execution_count": 0,
      "outputs": []
    }
  ]
}